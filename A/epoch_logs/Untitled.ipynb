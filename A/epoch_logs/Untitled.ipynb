{
 "cells": [
  {
   "cell_type": "code",
   "execution_count": 1,
   "id": "a41f79c7",
   "metadata": {},
   "outputs": [],
   "source": [
    "import pandas as pd"
   ]
  },
  {
   "cell_type": "code",
   "execution_count": 11,
   "id": "057dba34",
   "metadata": {},
   "outputs": [],
   "source": [
    "tmp = pd.read_csv('hsiao_base_full_5_reg_logs_valid.csv', index_col=0)[['Epoch', 'AUC', \"PRC\", 'loss']]"
   ]
  },
  {
   "cell_type": "code",
   "execution_count": 13,
   "id": "ec9e5d5d",
   "metadata": {},
   "outputs": [
    {
     "data": {
      "text/plain": [
       "0.7967766284860637"
      ]
     },
     "execution_count": 13,
     "metadata": {},
     "output_type": "execute_result"
    }
   ],
   "source": [
    "tmp.AUC.max()"
   ]
  },
  {
   "cell_type": "code",
   "execution_count": 9,
   "id": "6357b410",
   "metadata": {},
   "outputs": [],
   "source": [
    "info_dic = {'Epoch': [77], 'AUC': [0.9], 'PRC': [0.8], 'loss':[0.1]} "
   ]
  },
  {
   "cell_type": "code",
   "execution_count": 10,
   "id": "d573c018",
   "metadata": {},
   "outputs": [
    {
     "data": {
      "text/html": [
       "<div>\n",
       "<style scoped>\n",
       "    .dataframe tbody tr th:only-of-type {\n",
       "        vertical-align: middle;\n",
       "    }\n",
       "\n",
       "    .dataframe tbody tr th {\n",
       "        vertical-align: top;\n",
       "    }\n",
       "\n",
       "    .dataframe thead th {\n",
       "        text-align: right;\n",
       "    }\n",
       "</style>\n",
       "<table border=\"1\" class=\"dataframe\">\n",
       "  <thead>\n",
       "    <tr style=\"text-align: right;\">\n",
       "      <th></th>\n",
       "      <th>Epoch</th>\n",
       "      <th>AUC</th>\n",
       "      <th>PRC</th>\n",
       "      <th>loss</th>\n",
       "    </tr>\n",
       "  </thead>\n",
       "  <tbody>\n",
       "    <tr>\n",
       "      <th>0</th>\n",
       "      <td>0</td>\n",
       "      <td>0.707136</td>\n",
       "      <td>0.719181</td>\n",
       "      <td>0.567075</td>\n",
       "    </tr>\n",
       "    <tr>\n",
       "      <th>1</th>\n",
       "      <td>1</td>\n",
       "      <td>0.839790</td>\n",
       "      <td>0.785954</td>\n",
       "      <td>0.447507</td>\n",
       "    </tr>\n",
       "    <tr>\n",
       "      <th>2</th>\n",
       "      <td>2</td>\n",
       "      <td>0.928877</td>\n",
       "      <td>0.864953</td>\n",
       "      <td>0.314192</td>\n",
       "    </tr>\n",
       "    <tr>\n",
       "      <th>3</th>\n",
       "      <td>3</td>\n",
       "      <td>0.984346</td>\n",
       "      <td>0.941732</td>\n",
       "      <td>0.152782</td>\n",
       "    </tr>\n",
       "    <tr>\n",
       "      <th>4</th>\n",
       "      <td>4</td>\n",
       "      <td>0.995200</td>\n",
       "      <td>0.970338</td>\n",
       "      <td>0.085536</td>\n",
       "    </tr>\n",
       "    <tr>\n",
       "      <th>...</th>\n",
       "      <td>...</td>\n",
       "      <td>...</td>\n",
       "      <td>...</td>\n",
       "      <td>...</td>\n",
       "    </tr>\n",
       "    <tr>\n",
       "      <th>70</th>\n",
       "      <td>70</td>\n",
       "      <td>0.999780</td>\n",
       "      <td>0.996516</td>\n",
       "      <td>0.017922</td>\n",
       "    </tr>\n",
       "    <tr>\n",
       "      <th>71</th>\n",
       "      <td>71</td>\n",
       "      <td>0.999849</td>\n",
       "      <td>0.996864</td>\n",
       "      <td>0.015213</td>\n",
       "    </tr>\n",
       "    <tr>\n",
       "      <th>72</th>\n",
       "      <td>72</td>\n",
       "      <td>0.999654</td>\n",
       "      <td>0.996750</td>\n",
       "      <td>0.017400</td>\n",
       "    </tr>\n",
       "    <tr>\n",
       "      <th>73</th>\n",
       "      <td>73</td>\n",
       "      <td>0.999834</td>\n",
       "      <td>0.997443</td>\n",
       "      <td>0.014191</td>\n",
       "    </tr>\n",
       "    <tr>\n",
       "      <th>0</th>\n",
       "      <td>77</td>\n",
       "      <td>0.900000</td>\n",
       "      <td>0.800000</td>\n",
       "      <td>0.100000</td>\n",
       "    </tr>\n",
       "  </tbody>\n",
       "</table>\n",
       "<p>75 rows × 4 columns</p>\n",
       "</div>"
      ],
      "text/plain": [
       "    Epoch       AUC       PRC      loss\n",
       "0       0  0.707136  0.719181  0.567075\n",
       "1       1  0.839790  0.785954  0.447507\n",
       "2       2  0.928877  0.864953  0.314192\n",
       "3       3  0.984346  0.941732  0.152782\n",
       "4       4  0.995200  0.970338  0.085536\n",
       "..    ...       ...       ...       ...\n",
       "70     70  0.999780  0.996516  0.017922\n",
       "71     71  0.999849  0.996864  0.015213\n",
       "72     72  0.999654  0.996750  0.017400\n",
       "73     73  0.999834  0.997443  0.014191\n",
       "0      77  0.900000  0.800000  0.100000\n",
       "\n",
       "[75 rows x 4 columns]"
      ]
     },
     "execution_count": 10,
     "metadata": {},
     "output_type": "execute_result"
    }
   ],
   "source": [
    "pd.concat([tmp, pd.DataFrame.from_dict(info_dic)])"
   ]
  },
  {
   "cell_type": "code",
   "execution_count": null,
   "id": "ccad07a8",
   "metadata": {},
   "outputs": [],
   "source": []
  }
 ],
 "metadata": {
  "kernelspec": {
   "display_name": "Python 3 (ipykernel)",
   "language": "python",
   "name": "python3"
  },
  "language_info": {
   "codemirror_mode": {
    "name": "ipython",
    "version": 3
   },
   "file_extension": ".py",
   "mimetype": "text/x-python",
   "name": "python",
   "nbconvert_exporter": "python",
   "pygments_lexer": "ipython3",
   "version": "3.9.5"
  }
 },
 "nbformat": 4,
 "nbformat_minor": 5
}
