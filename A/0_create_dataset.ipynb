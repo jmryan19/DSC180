{
 "cells": [
  {
   "cell_type": "code",
   "execution_count": 3,
   "id": "8f66cf7b",
   "metadata": {},
   "outputs": [],
   "source": [
    "import numpy as np\n",
    "import pandas as pd\n",
    "import h5py\n",
    "import torch\n",
    "from torchvision.transforms import functional as Func\n",
    "from torchvision import transforms as T\n",
    "from PIL import Image\n",
    "from scipy.stats import *"
   ]
  },
  {
   "cell_type": "code",
   "execution_count": 4,
   "id": "244b15e8",
   "metadata": {},
   "outputs": [],
   "source": [
    "TEST_PATH = '/home/jmryan/private/DSC180/A/test/testdata.csv'\n",
    "TRAIN_PATH = '/home/jmryan/private/DSC180/A/train/traindata.csv'\n",
    "VAL_PATH = '/home/jmryan/private/DSC180/A/val/valdata.csv'"
   ]
  },
  {
   "cell_type": "code",
   "execution_count": 5,
   "id": "7b260d3a",
   "metadata": {},
   "outputs": [],
   "source": [
    "train_df = pd.read_csv(TRAIN_PATH, index_col=0)\n",
    "val_df = pd.read_csv(VAL_PATH, index_col=0)\n",
    "test_df = pd.read_csv(TEST_PATH, index_col=0)"
   ]
  },
  {
   "cell_type": "code",
   "execution_count": 7,
   "id": "e7ff34c7",
   "metadata": {},
   "outputs": [
    {
     "data": {
      "text/html": [
       "<div>\n",
       "<style scoped>\n",
       "    .dataframe tbody tr th:only-of-type {\n",
       "        vertical-align: middle;\n",
       "    }\n",
       "\n",
       "    .dataframe tbody tr th {\n",
       "        vertical-align: top;\n",
       "    }\n",
       "\n",
       "    .dataframe thead th {\n",
       "        text-align: right;\n",
       "    }\n",
       "</style>\n",
       "<table border=\"1\" class=\"dataframe\">\n",
       "  <thead>\n",
       "    <tr style=\"text-align: right;\">\n",
       "      <th></th>\n",
       "      <th>bnpp_value_log</th>\n",
       "      <th>heart</th>\n",
       "      <th>filepaths</th>\n",
       "    </tr>\n",
       "  </thead>\n",
       "  <tbody>\n",
       "    <tr>\n",
       "      <th>0</th>\n",
       "      <td>2.621176</td>\n",
       "      <td>1</td>\n",
       "      <td>Abachug_50267230_img1/Abachug_50267230_img1_22...</td>\n",
       "    </tr>\n",
       "    <tr>\n",
       "      <th>1</th>\n",
       "      <td>2.071882</td>\n",
       "      <td>0</td>\n",
       "      <td>Abafouck_52403307_img1/Abafouck_52403307_img1_...</td>\n",
       "    </tr>\n",
       "    <tr>\n",
       "      <th>2</th>\n",
       "      <td>1.698101</td>\n",
       "      <td>0</td>\n",
       "      <td>Abagash_52691625_img1/Abagash_52691625_img1_22...</td>\n",
       "    </tr>\n",
       "    <tr>\n",
       "      <th>3</th>\n",
       "      <td>4.301659</td>\n",
       "      <td>1</td>\n",
       "      <td>Abakleem_50725934_img1/Abakleem_50725934_img1_...</td>\n",
       "    </tr>\n",
       "    <tr>\n",
       "      <th>4</th>\n",
       "      <td>3.219323</td>\n",
       "      <td>1</td>\n",
       "      <td>Abaphos_51936331_img1/Abaphos_51936331_img1_22...</td>\n",
       "    </tr>\n",
       "    <tr>\n",
       "      <th>5</th>\n",
       "      <td>2.705008</td>\n",
       "      <td>1</td>\n",
       "      <td>Abbefout_50702680_img1/Abbefout_50702680_img1_...</td>\n",
       "    </tr>\n",
       "    <tr>\n",
       "      <th>6</th>\n",
       "      <td>2.079181</td>\n",
       "      <td>0</td>\n",
       "      <td>Abcifisk_52639558_img1/Abcifisk_52639558_img1_...</td>\n",
       "    </tr>\n",
       "    <tr>\n",
       "      <th>7</th>\n",
       "      <td>2.980003</td>\n",
       "      <td>1</td>\n",
       "      <td>Abebey_51516292_img1/Abebey_51516292_img1_224....</td>\n",
       "    </tr>\n",
       "    <tr>\n",
       "      <th>8</th>\n",
       "      <td>3.677698</td>\n",
       "      <td>1</td>\n",
       "      <td>Abefik_50148616_img1/Abefik_50148616_img1_224....</td>\n",
       "    </tr>\n",
       "    <tr>\n",
       "      <th>9</th>\n",
       "      <td>1.857332</td>\n",
       "      <td>0</td>\n",
       "      <td>Abelug_50451534_img1/Abelug_50451534_img1_224....</td>\n",
       "    </tr>\n",
       "  </tbody>\n",
       "</table>\n",
       "</div>"
      ],
      "text/plain": [
       "   bnpp_value_log  heart                                          filepaths\n",
       "0        2.621176      1  Abachug_50267230_img1/Abachug_50267230_img1_22...\n",
       "1        2.071882      0  Abafouck_52403307_img1/Abafouck_52403307_img1_...\n",
       "2        1.698101      0  Abagash_52691625_img1/Abagash_52691625_img1_22...\n",
       "3        4.301659      1  Abakleem_50725934_img1/Abakleem_50725934_img1_...\n",
       "4        3.219323      1  Abaphos_51936331_img1/Abaphos_51936331_img1_22...\n",
       "5        2.705008      1  Abbefout_50702680_img1/Abbefout_50702680_img1_...\n",
       "6        2.079181      0  Abcifisk_52639558_img1/Abcifisk_52639558_img1_...\n",
       "7        2.980003      1  Abebey_51516292_img1/Abebey_51516292_img1_224....\n",
       "8        3.677698      1  Abefik_50148616_img1/Abefik_50148616_img1_224....\n",
       "9        1.857332      0  Abelug_50451534_img1/Abelug_50451534_img1_224...."
      ]
     },
     "execution_count": 7,
     "metadata": {},
     "output_type": "execute_result"
    }
   ],
   "source": [
    "train_df.head(10)"
   ]
  },
  {
   "cell_type": "code",
   "execution_count": 5,
   "id": "72ab4aec",
   "metadata": {},
   "outputs": [
    {
     "data": {
      "text/plain": [
       "Index(['bnpp_value_log', 'heart', 'filepaths'], dtype='object')"
      ]
     },
     "execution_count": 5,
     "metadata": {},
     "output_type": "execute_result"
    }
   ],
   "source": [
    "train_df.columns"
   ]
  },
  {
   "cell_type": "code",
   "execution_count": 10,
   "id": "800d0dcd",
   "metadata": {},
   "outputs": [
    {
     "name": "stdout",
     "output_type": "stream",
     "text": [
      "KstestResult(statistic=0.04655932565408236, pvalue=0.0012228332097944754)\n",
      "KstestResult(statistic=0.032652869131830964, pvalue=0.06090437079897881)\n",
      "KstestResult(statistic=0.043069921164741974, pvalue=0.06021137855246683)\n"
     ]
    }
   ],
   "source": [
    "print(kstest(train_df['bnpp_value_log'], val_df['bnpp_value_log']))\n",
    "print(kstest(train_df['bnpp_value_log'], test_df['bnpp_value_log']))\n",
    "print(kstest(test_df['bnpp_value_log'], val_df['bnpp_value_log']))"
   ]
  },
  {
   "cell_type": "code",
   "execution_count": 12,
   "id": "fc2d5b7c",
   "metadata": {},
   "outputs": [
    {
     "data": {
      "text/plain": [
       "18900"
      ]
     },
     "execution_count": 12,
     "metadata": {},
     "output_type": "execute_result"
    }
   ],
   "source": [
    "len(train_df) + len(val_df) + len(test_df)"
   ]
  },
  {
   "cell_type": "code",
   "execution_count": 8,
   "id": "8957f59d",
   "metadata": {},
   "outputs": [
    {
     "data": {
      "text/plain": [
       "918.9999999999993"
      ]
     },
     "execution_count": 8,
     "metadata": {},
     "output_type": "execute_result"
    }
   ],
   "source": [
    "np.median((list(10**train_df['bnpp_value_log']) + list(10**val_df['bnpp_value_log']) + \n",
    " list(10**test_df['bnpp_value_log'])))"
   ]
  },
  {
   "cell_type": "code",
   "execution_count": 29,
   "id": "b89ce31b",
   "metadata": {},
   "outputs": [
    {
     "data": {
      "text/plain": [
       "11309.768478002985"
      ]
     },
     "execution_count": 29,
     "metadata": {},
     "output_type": "execute_result"
    }
   ],
   "source": [
    "np.std((list(10**train_df['bnpp_value_log']) + list(10**val_df['bnpp_value_log']) + \n",
    " list(10**test_df['bnpp_value_log'])))"
   ]
  },
  {
   "cell_type": "code",
   "execution_count": 23,
   "id": "08e065f7",
   "metadata": {},
   "outputs": [
    {
     "data": {
      "text/plain": [
       "881.6540363236035"
      ]
     },
     "execution_count": 23,
     "metadata": {},
     "output_type": "execute_result"
    }
   ],
   "source": [
    "10**train_df.bnpp_value_log.mean()"
   ]
  },
  {
   "cell_type": "code",
   "execution_count": 24,
   "id": "db789ed8",
   "metadata": {},
   "outputs": [
    {
     "data": {
      "text/plain": [
       "837.6317028642114"
      ]
     },
     "execution_count": 24,
     "metadata": {},
     "output_type": "execute_result"
    }
   ],
   "source": [
    "10**val_df.bnpp_value_log.mean()"
   ]
  },
  {
   "cell_type": "code",
   "execution_count": 25,
   "id": "bb08449b",
   "metadata": {},
   "outputs": [
    {
     "data": {
      "text/plain": [
       "795.3355693105333"
      ]
     },
     "execution_count": 25,
     "metadata": {},
     "output_type": "execute_result"
    }
   ],
   "source": [
    "10**test_df.bnpp_value_log.mean()"
   ]
  },
  {
   "cell_type": "code",
   "execution_count": null,
   "id": "4776d8d6",
   "metadata": {},
   "outputs": [],
   "source": []
  }
 ],
 "metadata": {
  "kernelspec": {
   "display_name": "Python 3 (ipykernel)",
   "language": "python",
   "name": "python3"
  },
  "language_info": {
   "codemirror_mode": {
    "name": "ipython",
    "version": 3
   },
   "file_extension": ".py",
   "mimetype": "text/x-python",
   "name": "python",
   "nbconvert_exporter": "python",
   "pygments_lexer": "ipython3",
   "version": "3.9.5"
  }
 },
 "nbformat": 4,
 "nbformat_minor": 5
}
