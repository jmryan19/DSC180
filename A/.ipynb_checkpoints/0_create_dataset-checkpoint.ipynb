{
 "cells": [
  {
   "cell_type": "code",
   "execution_count": 1,
   "id": "8f66cf7b",
   "metadata": {},
   "outputs": [],
   "source": [
    "import numpy as np\n",
    "import pandas as pd\n",
    "import h5py\n",
    "import torch\n",
    "from torchvision.transforms import functional as Func\n",
    "from torchvision import transforms as T\n",
    "from PIL import Image"
   ]
  },
  {
   "cell_type": "code",
   "execution_count": 2,
   "id": "21af483d",
   "metadata": {},
   "outputs": [
    {
     "name": "stdout",
     "output_type": "stream",
     "text": [
      "0_create_dataset.ipynb\tbnpp_1024.hdf5\tbnpp_train.csv\tlightning_logs\r\n",
      "1_playaround.ipynb\tbnpp_test.csv\tbnpp_val.csv\r\n"
     ]
    }
   ],
   "source": [
    "!ls"
   ]
  },
  {
   "cell_type": "code",
   "execution_count": 4,
   "id": "ac00af4c",
   "metadata": {},
   "outputs": [],
   "source": [
    "hf = h5py.File('bnpp_1024.hdf5', 'r')\n"
   ]
  },
  {
   "cell_type": "code",
   "execution_count": 21,
   "id": "c2020cb9",
   "metadata": {},
   "outputs": [
    {
     "data": {
      "text/plain": [
       "<HDF5 dataset \"Umefet_51429244_img1\": shape (1024, 1024), type \"<f4\">"
      ]
     },
     "execution_count": 21,
     "metadata": {},
     "output_type": "execute_result"
    }
   ],
   "source": [
    "hf[list(hf.keys())[0]]"
   ]
  },
  {
   "cell_type": "markdown",
   "id": "1fb7ea99",
   "metadata": {},
   "source": [
    "## Save Set?"
   ]
  },
  {
   "cell_type": "code",
   "execution_count": 7,
   "id": "66108075",
   "metadata": {},
   "outputs": [
    {
     "name": "stdout",
     "output_type": "stream",
     "text": [
      "0\n",
      "1\n",
      "2\n",
      "3\n",
      "4\n",
      "5\n",
      "6\n",
      "10\n"
     ]
    }
   ],
   "source": [
    "hf_path = '/home/jmryan/teams/dsc-180a---a14-[88137]/bnpp_frontalonly_1024_'\n",
    "hf_paths = []\n",
    "hfs = []\n",
    "for i in range(11):\n",
    "    #print(os.path.exists(hf_path+str(i)+'.hdf5'))\n",
    "    if i >= 7 and i != 10:\n",
    "        continue\n",
    "    hf_paths.append(hf_path+str(i)+'.hdf5')\n",
    "    hfs.append(h5py.File(hf_path+str(i)+'.hdf5', 'r'))\n",
    "    print(i)"
   ]
  },
  {
   "cell_type": "code",
   "execution_count": 11,
   "id": "d371b868",
   "metadata": {},
   "outputs": [],
   "source": [
    "ims = []\n",
    "pil = T.ToPILImage()\n",
    "tens = T.ToTensor()\n",
    "resize = T.Resize([224, 224], interpolation=T.InterpolationMode.BILINEAR)\n",
    "for hf in hfs:\n",
    "    for key in list(hf.keys()):\n",
    "        im = hf[key][:,:]\n",
    "        im = (im-im.min())/(im.max() - im.min())\n",
    "        im = tens(resize(pil(im.copy())))[0]\n",
    "        ims.append(im)"
   ]
  },
  {
   "cell_type": "code",
   "execution_count": 8,
   "id": "e4eead8a",
   "metadata": {},
   "outputs": [],
   "source": [
    "pids = []\n",
    "for hf in hfs:\n",
    "    for key in list(hf.keys()):\n",
    "        pids.append(key)"
   ]
  },
  {
   "cell_type": "code",
   "execution_count": 15,
   "id": "79b69525",
   "metadata": {},
   "outputs": [],
   "source": [
    "pd.DataFrame(pids).to_csv('/home/jmryan/teams/dsc-180a---a14-[88137]/bnpp_224_19649_pid_order.csv')"
   ]
  },
  {
   "cell_type": "code",
   "execution_count": 12,
   "id": "6176f8cb",
   "metadata": {},
   "outputs": [
    {
     "ename": "TypeError",
     "evalue": "can't convert np.ndarray of type numpy.str_. The only supported types are: float64, float32, float16, complex64, complex128, int64, int32, int16, int8, uint8, and bool.",
     "output_type": "error",
     "traceback": [
      "\u001b[0;31m---------------------------------------------------------------------------\u001b[0m",
      "\u001b[0;31mTypeError\u001b[0m                                 Traceback (most recent call last)",
      "\u001b[0;32m/tmp/ipykernel_365/1944603644.py\u001b[0m in \u001b[0;36m<module>\u001b[0;34m\u001b[0m\n\u001b[0;32m----> 1\u001b[0;31m \u001b[0mtorch\u001b[0m\u001b[0;34m.\u001b[0m\u001b[0mtensor\u001b[0m\u001b[0;34m(\u001b[0m\u001b[0mnp\u001b[0m\u001b[0;34m.\u001b[0m\u001b[0marray\u001b[0m\u001b[0;34m(\u001b[0m\u001b[0mpids\u001b[0m\u001b[0;34m)\u001b[0m\u001b[0;34m)\u001b[0m\u001b[0;34m\u001b[0m\u001b[0;34m\u001b[0m\u001b[0m\n\u001b[0m",
      "\u001b[0;31mTypeError\u001b[0m: can't convert np.ndarray of type numpy.str_. The only supported types are: float64, float32, float16, complex64, complex128, int64, int32, int16, int8, uint8, and bool."
     ]
    }
   ],
   "source": [
    "torch.tensor(np.array(pids))"
   ]
  },
  {
   "cell_type": "code",
   "execution_count": 13,
   "id": "8ec167f1",
   "metadata": {},
   "outputs": [],
   "source": [
    "torch_ims = torch.stack(ims)"
   ]
  },
  {
   "cell_type": "code",
   "execution_count": 15,
   "id": "6d739258",
   "metadata": {},
   "outputs": [
    {
     "data": {
      "text/plain": [
       "19649"
      ]
     },
     "execution_count": 15,
     "metadata": {},
     "output_type": "execute_result"
    }
   ],
   "source": [
    "len(torch_ims)"
   ]
  },
  {
   "cell_type": "code",
   "execution_count": 16,
   "id": "716b153b",
   "metadata": {},
   "outputs": [],
   "source": [
    "torch.save(torch_ims, '/home/jmryan/teams/dsc-180a---a14-[88137]/bnpp_224_19649.pandas')"
   ]
  },
  {
   "cell_type": "code",
   "execution_count": null,
   "id": "a5731833",
   "metadata": {},
   "outputs": [],
   "source": []
  },
  {
   "cell_type": "code",
   "execution_count": 2,
   "id": "83990b41",
   "metadata": {},
   "outputs": [],
   "source": [
    "loaded = torch.load('/home/jmryan/teams/dsc-180a---a14-[88137]/bnpp_224_19649.pandas')"
   ]
  },
  {
   "cell_type": "code",
   "execution_count": 6,
   "id": "32caadac",
   "metadata": {},
   "outputs": [
    {
     "data": {
      "text/plain": [
       "tensor([[0.0000e+00, 0.0000e+00, 0.0000e+00,  ..., 0.0000e+00, 0.0000e+00,\n",
       "         0.0000e+00],\n",
       "        [0.0000e+00, 0.0000e+00, 0.0000e+00,  ..., 0.0000e+00, 0.0000e+00,\n",
       "         0.0000e+00],\n",
       "        [0.0000e+00, 0.0000e+00, 0.0000e+00,  ..., 0.0000e+00, 0.0000e+00,\n",
       "         0.0000e+00],\n",
       "        ...,\n",
       "        [0.0000e+00, 0.0000e+00, 0.0000e+00,  ..., 2.9528e-01, 2.3524e-01,\n",
       "         1.9776e-01],\n",
       "        [0.0000e+00, 0.0000e+00, 1.2348e-06,  ..., 2.9025e-01, 2.3724e-01,\n",
       "         2.0510e-01],\n",
       "        [0.0000e+00, 0.0000e+00, 1.4884e-06,  ..., 2.8753e-01, 2.4105e-01,\n",
       "         2.1004e-01]])"
      ]
     },
     "execution_count": 6,
     "metadata": {},
     "output_type": "execute_result"
    }
   ],
   "source": [
    "loaded[-1]"
   ]
  },
  {
   "cell_type": "markdown",
   "id": "0d8150d3",
   "metadata": {},
   "source": [
    "## Random Exploring"
   ]
  },
  {
   "cell_type": "code",
   "execution_count": 10,
   "id": "d914b7cf",
   "metadata": {},
   "outputs": [],
   "source": [
    "test_df = pd.read_csv('bnpp_test.csv')\n",
    "train_df = pd.read_csv('bnpp_train.csv')\n",
    "val_df = pd.read_csv('bnpp_val.csv')\n",
    "all_df = pd.concat([train_df, val_df, test_df]).set_index('unique_key')"
   ]
  },
  {
   "cell_type": "code",
   "execution_count": 6,
   "id": "1016e8fc",
   "metadata": {
    "scrolled": true
   },
   "outputs": [],
   "source": [
    "ids = pd.concat([test_df[['unique_key']], train_df[['unique_key']], val_df[['unique_key']]])['unique_key'].iloc[:-1].to_numpy()"
   ]
  },
  {
   "cell_type": "code",
   "execution_count": 8,
   "id": "9eb9291f",
   "metadata": {},
   "outputs": [],
   "source": [
    "in_ = []\n",
    "hf_keys = list(hf.keys())\n",
    "for im in ids:\n",
    "    if im in hf_keys:\n",
    "        in_.append(im)"
   ]
  },
  {
   "cell_type": "code",
   "execution_count": 15,
   "id": "3c2f845c",
   "metadata": {},
   "outputs": [],
   "source": [
    "actual_all = all_df.loc[in_]"
   ]
  },
  {
   "cell_type": "code",
   "execution_count": 19,
   "id": "1885379e",
   "metadata": {},
   "outputs": [
    {
     "name": "stdout",
     "output_type": "stream",
     "text": [
      "4958.36104815864\n",
      "10944.87252960246\n"
     ]
    }
   ],
   "source": [
    "print(actual_all['BNP_value'].mean())\n",
    "print(actual_all['BNP_value'].std())"
   ]
  },
  {
   "cell_type": "code",
   "execution_count": 48,
   "id": "12d700e2",
   "metadata": {},
   "outputs": [],
   "source": [
    "def age_helper(x):\n",
    "    if x > 90:\n",
    "        return '> 90'\n",
    "    elif x > 80:\n",
    "        return '> 80'\n",
    "    elif x > 70:\n",
    "        return '> 70'\n",
    "    elif x > 60:\n",
    "        return '> 60'\n",
    "    elif x > 50:\n",
    "        return '> 50'\n",
    "    elif x > 40:\n",
    "        return '> 40'\n",
    "    elif x > 30: \n",
    "        return '> 30'\n",
    "    elif x >= 20:\n",
    "        return '> 20'"
   ]
  },
  {
   "cell_type": "code",
   "execution_count": 49,
   "id": "32208e20",
   "metadata": {},
   "outputs": [],
   "source": [
    "actual_all['age_group'] = actual_all['age_at_sampletime'].apply(age_helper)"
   ]
  },
  {
   "cell_type": "code",
   "execution_count": 54,
   "id": "0d14f88f",
   "metadata": {},
   "outputs": [
    {
     "data": {
      "text/html": [
       "<div>\n",
       "<style scoped>\n",
       "    .dataframe tbody tr th:only-of-type {\n",
       "        vertical-align: middle;\n",
       "    }\n",
       "\n",
       "    .dataframe tbody tr th {\n",
       "        vertical-align: top;\n",
       "    }\n",
       "\n",
       "    .dataframe thead tr th {\n",
       "        text-align: left;\n",
       "    }\n",
       "\n",
       "    .dataframe thead tr:last-of-type th {\n",
       "        text-align: right;\n",
       "    }\n",
       "</style>\n",
       "<table border=\"1\" class=\"dataframe\">\n",
       "  <thead>\n",
       "    <tr>\n",
       "      <th></th>\n",
       "      <th colspan=\"6\" halign=\"left\">BNP_value</th>\n",
       "    </tr>\n",
       "    <tr>\n",
       "      <th></th>\n",
       "      <th>mean</th>\n",
       "      <th>std</th>\n",
       "      <th>count</th>\n",
       "      <th>min</th>\n",
       "      <th>max</th>\n",
       "      <th>median</th>\n",
       "    </tr>\n",
       "    <tr>\n",
       "      <th>age_group</th>\n",
       "      <th></th>\n",
       "      <th></th>\n",
       "      <th></th>\n",
       "      <th></th>\n",
       "      <th></th>\n",
       "      <th></th>\n",
       "    </tr>\n",
       "  </thead>\n",
       "  <tbody>\n",
       "    <tr>\n",
       "      <th>&gt; 20</th>\n",
       "      <td>5391.504167</td>\n",
       "      <td>14767.180635</td>\n",
       "      <td>24</td>\n",
       "      <td>6.0</td>\n",
       "      <td>70000.1</td>\n",
       "      <td>252.0</td>\n",
       "    </tr>\n",
       "    <tr>\n",
       "      <th>&gt; 30</th>\n",
       "      <td>3816.414286</td>\n",
       "      <td>8689.215551</td>\n",
       "      <td>35</td>\n",
       "      <td>4.9</td>\n",
       "      <td>37905.0</td>\n",
       "      <td>471.0</td>\n",
       "    </tr>\n",
       "    <tr>\n",
       "      <th>&gt; 40</th>\n",
       "      <td>4397.902597</td>\n",
       "      <td>9858.064132</td>\n",
       "      <td>77</td>\n",
       "      <td>4.9</td>\n",
       "      <td>54607.0</td>\n",
       "      <td>403.0</td>\n",
       "    </tr>\n",
       "    <tr>\n",
       "      <th>&gt; 50</th>\n",
       "      <td>3885.609589</td>\n",
       "      <td>9997.732103</td>\n",
       "      <td>146</td>\n",
       "      <td>4.9</td>\n",
       "      <td>70000.1</td>\n",
       "      <td>623.0</td>\n",
       "    </tr>\n",
       "    <tr>\n",
       "      <th>&gt; 60</th>\n",
       "      <td>6100.635922</td>\n",
       "      <td>12662.312680</td>\n",
       "      <td>206</td>\n",
       "      <td>4.9</td>\n",
       "      <td>70000.1</td>\n",
       "      <td>1212.5</td>\n",
       "    </tr>\n",
       "    <tr>\n",
       "      <th>&gt; 70</th>\n",
       "      <td>5176.419048</td>\n",
       "      <td>11203.797668</td>\n",
       "      <td>126</td>\n",
       "      <td>22.0</td>\n",
       "      <td>70000.1</td>\n",
       "      <td>1371.0</td>\n",
       "    </tr>\n",
       "    <tr>\n",
       "      <th>&gt; 80</th>\n",
       "      <td>4440.040541</td>\n",
       "      <td>7282.442271</td>\n",
       "      <td>74</td>\n",
       "      <td>32.0</td>\n",
       "      <td>34989.0</td>\n",
       "      <td>1548.5</td>\n",
       "    </tr>\n",
       "    <tr>\n",
       "      <th>&gt; 90</th>\n",
       "      <td>5231.777778</td>\n",
       "      <td>10903.987806</td>\n",
       "      <td>18</td>\n",
       "      <td>99.0</td>\n",
       "      <td>41461.0</td>\n",
       "      <td>894.0</td>\n",
       "    </tr>\n",
       "  </tbody>\n",
       "</table>\n",
       "</div>"
      ],
      "text/plain": [
       "             BNP_value                                           \n",
       "                  mean           std count   min      max  median\n",
       "age_group                                                        \n",
       "> 20       5391.504167  14767.180635    24   6.0  70000.1   252.0\n",
       "> 30       3816.414286   8689.215551    35   4.9  37905.0   471.0\n",
       "> 40       4397.902597   9858.064132    77   4.9  54607.0   403.0\n",
       "> 50       3885.609589   9997.732103   146   4.9  70000.1   623.0\n",
       "> 60       6100.635922  12662.312680   206   4.9  70000.1  1212.5\n",
       "> 70       5176.419048  11203.797668   126  22.0  70000.1  1371.0\n",
       "> 80       4440.040541   7282.442271    74  32.0  34989.0  1548.5\n",
       "> 90       5231.777778  10903.987806    18  99.0  41461.0   894.0"
      ]
     },
     "execution_count": 54,
     "metadata": {},
     "output_type": "execute_result"
    }
   ],
   "source": [
    "actual_all[['age_group', 'BNP_value']].groupby('age_group').agg(['mean', 'std', 'count', 'min', 'max', 'median']).sort_index()"
   ]
  },
  {
   "cell_type": "code",
   "execution_count": 54,
   "id": "eb04bd7b",
   "metadata": {},
   "outputs": [
    {
     "data": {
      "text/plain": [
       "749"
      ]
     },
     "execution_count": 54,
     "metadata": {},
     "output_type": "execute_result"
    }
   ],
   "source": [
    "len(hf)"
   ]
  },
  {
   "cell_type": "code",
   "execution_count": 52,
   "id": "8aa8c093",
   "metadata": {},
   "outputs": [
    {
     "data": {
      "text/plain": [
       "array([[ 1150.     ,   991.57574,   889.22   , ...,   364.93158,\n",
       "          424.56793,   471.     ],\n",
       "       [ 1120.3812 ,   915.83234,   860.17346, ...,   357.5568 ,\n",
       "          409.25415,   444.5083 ],\n",
       "       [ 1032.4056 ,   901.9313 ,   870.71936, ...,   376.0726 ,\n",
       "          408.83182,   444.94916],\n",
       "       ...,\n",
       "       [11184.738  , 10646.195  , 10257.507  , ...,  8331.449  ,\n",
       "         8116.2607 ,  8211.855  ],\n",
       "       [12149.729  , 11527.023  , 11249.011  , ...,  9267.892  ,\n",
       "         9512.013  ,  9446.002  ],\n",
       "       [12591.     , 12286.253  , 12206.42   , ..., 10557.234  ,\n",
       "        10781.891  , 10711.     ]], dtype=float32)"
      ]
     },
     "execution_count": 52,
     "metadata": {},
     "output_type": "execute_result"
    }
   ],
   "source": [
    "hf[list(hf.keys())[0]][:,:]"
   ]
  },
  {
   "cell_type": "code",
   "execution_count": 70,
   "id": "b9b658ba",
   "metadata": {},
   "outputs": [],
   "source": [
    "import torch\n",
    "import os\n",
    "import pandas as pd\n",
    "from torchvision.io import read_image\n",
    "from torch.utils.data import Dataset\n",
    "\n",
    "class ImageDataset(Dataset):\n",
    "    def __init__(self, hf, df, transform=None, target_transform=None):\n",
    "        self.hf = hf\n",
    "        self.hf_keys = list(hf.keys())\n",
    "        self.df = df\n",
    "\n",
    "    def __len__(self):\n",
    "        return len(self.hf)\n",
    "\n",
    "    def __getitem__(self, idx):\n",
    "        key = self.hf_keys[idx]\n",
    "        im = hf[key][:,:]\n",
    "        val = self.df.loc[key].BNP_value\n",
    "        return torch.tensor(im), val"
   ]
  },
  {
   "cell_type": "code",
   "execution_count": 71,
   "id": "99d1ceae",
   "metadata": {},
   "outputs": [],
   "source": [
    "df = ImageDataset(hf, all_df)"
   ]
  },
  {
   "cell_type": "code",
   "execution_count": 74,
   "id": "bd1a56f0",
   "metadata": {},
   "outputs": [
    {
     "data": {
      "text/plain": [
       "tensor([[ 355.1084,  359.5648,  362.7708,  ...,  381.3664,  381.3664,\n",
       "          380.1160],\n",
       "        [ 353.8580,  359.1008,  361.8934,  ...,  381.3664,  381.3664,\n",
       "          380.1160],\n",
       "        [ 353.8580,  358.3144,  361.5204,  ...,  381.3664,  381.3664,\n",
       "          380.1160],\n",
       "        ...,\n",
       "        [2082.6750, 2091.7556, 2065.5845,  ..., 1707.5608, 1707.8625,\n",
       "         1689.9232],\n",
       "        [2075.7656, 2125.6589, 2050.8254,  ..., 1682.2145, 1658.7534,\n",
       "         1653.3994],\n",
       "        [2099.3909, 2090.4475, 2039.6316,  ..., 1665.0586, 1672.6562,\n",
       "         1631.7480]])"
      ]
     },
     "execution_count": 74,
     "metadata": {},
     "output_type": "execute_result"
    }
   ],
   "source": [
    "df[100][0]"
   ]
  },
  {
   "cell_type": "code",
   "execution_count": null,
   "id": "244b15e8",
   "metadata": {},
   "outputs": [],
   "source": []
  }
 ],
 "metadata": {
  "kernelspec": {
   "display_name": "Python 3 (ipykernel)",
   "language": "python",
   "name": "python3"
  },
  "language_info": {
   "codemirror_mode": {
    "name": "ipython",
    "version": 3
   },
   "file_extension": ".py",
   "mimetype": "text/x-python",
   "name": "python",
   "nbconvert_exporter": "python",
   "pygments_lexer": "ipython3",
   "version": "3.9.5"
  }
 },
 "nbformat": 4,
 "nbformat_minor": 5
}
