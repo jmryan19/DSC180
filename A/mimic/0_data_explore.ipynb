{
 "cells": [
  {
   "cell_type": "code",
   "execution_count": 1,
   "id": "61983c72",
   "metadata": {},
   "outputs": [],
   "source": [
    "import os\n",
    "import pandas as pd\n",
    "import numpy as np\n",
    "import torch\n",
    "from PIL import Image\n",
    "from torchvision.transforms import functional as Func\n",
    "from torchvision import transforms as T\n",
    "import matplotlib.pyplot as plt\n",
    "import shutil"
   ]
  },
  {
   "cell_type": "code",
   "execution_count": 32,
   "id": "c16200b5",
   "metadata": {},
   "outputs": [],
   "source": [
    "DATA_DIR_PATH = '/home/jmryan/teams/dsc-180a---a14-[88137]/MIMIC_Images/training_data_1/'\n",
    "MIMIC_PATH = '/home/jmryan/teams/dsc-180a---a14-[88137]/MIMIC_Images/'\n",
    "ex = '5d54a839-1c5f5156-cb890477-5adcd37d-49d6fda5.png'\n",
    "df_path = 'dataset.csv'\n",
    "with_id = 'with_identifiers.csv'\n",
    "file_path = 'filepaths.pkl'\n",
    "SIZE = [256,256]"
   ]
  },
  {
   "cell_type": "code",
   "execution_count": 34,
   "id": "9ac4979e",
   "metadata": {},
   "outputs": [],
   "source": [
    "tmp = os.listdir(MIMIC_PATH)"
   ]
  },
  {
   "cell_type": "code",
   "execution_count": 36,
   "id": "f4f01662",
   "metadata": {},
   "outputs": [],
   "source": [
    "paths = ['training_data_1',\n",
    " 'training_data_28',\n",
    " 'training_data_6',\n",
    " 'training_data_2',\n",
    " 'training_data_8',\n",
    " 'training_data_31_316',\n",
    " 'training_data_5',\n",
    " 'training_data_7',\n",
    " 'training_data_30',\n",
    " 'training_data_4',\n",
    " 'training_data_9',\n",
    " 'training_data_3']"
   ]
  },
  {
   "cell_type": "code",
   "execution_count": 61,
   "id": "959180b6",
   "metadata": {},
   "outputs": [],
   "source": [
    "target_path = '/home/jmryan/teams/dsc-180a---a14-[88137]/MIMIC_Images/training_data_big/'"
   ]
  },
  {
   "cell_type": "code",
   "execution_count": 56,
   "id": "6a1eae1b",
   "metadata": {},
   "outputs": [],
   "source": [
    "for file in os.listdir(MIMIC_PATH):\n",
    "    if '.png' in file:\n",
    "        os.remove(MIMIC_PATH + file)"
   ]
  },
  {
   "cell_type": "code",
   "execution_count": 57,
   "id": "ba577072",
   "metadata": {},
   "outputs": [
    {
     "data": {
      "text/plain": [
       "['training_data_1',\n",
       " 'training_data_28',\n",
       " 'training_data_6',\n",
       " 'old_zips',\n",
       " 'training_data_2',\n",
       " 'training_data_8',\n",
       " 'training_data_31_316',\n",
       " 'training_data_5',\n",
       " 'training_data_7',\n",
       " 'training_data_big',\n",
       " 'training_data_30',\n",
       " '.ipynb_checkpoints',\n",
       " 'training_data_4',\n",
       " 'training_data_9',\n",
       " 'training_data_3']"
      ]
     },
     "execution_count": 57,
     "metadata": {},
     "output_type": "execute_result"
    }
   ],
   "source": [
    "os.listdir(MIMIC_PATH)"
   ]
  },
  {
   "cell_type": "code",
   "execution_count": 63,
   "id": "09b327e0",
   "metadata": {},
   "outputs": [],
   "source": [
    "i = 0\n",
    "files = set()\n",
    "for origin in paths:\n",
    "    for file in os.listdir(MIMIC_PATH + origin):\n",
    "        shutil.copy(MIMIC_PATH + origin + '/' + file, target_path + file)"
   ]
  },
  {
   "cell_type": "code",
   "execution_count": 49,
   "id": "d0092e92",
   "metadata": {},
   "outputs": [
    {
     "data": {
      "text/plain": [
       "20600"
      ]
     },
     "execution_count": 49,
     "metadata": {},
     "output_type": "execute_result"
    }
   ],
   "source": [
    "i"
   ]
  },
  {
   "cell_type": "code",
   "execution_count": 47,
   "id": "8417d1f0",
   "metadata": {},
   "outputs": [
    {
     "data": {
      "text/plain": [
       "True"
      ]
     },
     "execution_count": 47,
     "metadata": {},
     "output_type": "execute_result"
    }
   ],
   "source": [
    "os.path.exists(target_path + file)"
   ]
  },
  {
   "cell_type": "code",
   "execution_count": 67,
   "id": "77716794",
   "metadata": {},
   "outputs": [],
   "source": [
    "im_names = os.listdir(target_path)"
   ]
  },
  {
   "cell_type": "code",
   "execution_count": 75,
   "id": "10a4ceff",
   "metadata": {},
   "outputs": [],
   "source": [
    "ims_full = pd.DataFrame(im_names, columns=['im_key'])"
   ]
  },
  {
   "cell_type": "code",
   "execution_count": 80,
   "id": "8a5a742e",
   "metadata": {},
   "outputs": [],
   "source": [
    "df['im_key'] = df.path.apply(lambda x: x.split('/')[-1][:-4] + '.png')"
   ]
  },
  {
   "cell_type": "code",
   "execution_count": 82,
   "id": "becb6be9",
   "metadata": {},
   "outputs": [],
   "source": [
    "full_df = df.merge(ims_full)"
   ]
  },
  {
   "cell_type": "code",
   "execution_count": 85,
   "id": "01cb19a6",
   "metadata": {},
   "outputs": [],
   "source": [
    "full_df['path'] = full_df.im_key.apply(lambda x: target_path + x)"
   ]
  },
  {
   "cell_type": "code",
   "execution_count": 88,
   "id": "84c0dbf7",
   "metadata": {},
   "outputs": [],
   "source": [
    "full_df[['path', 'Edema', 'Pleural Effusion', 'im_key']].to_csv(MIMIC_PATH + 'mimic_paths_meta.csv')"
   ]
  },
  {
   "cell_type": "code",
   "execution_count": 90,
   "id": "a201af55",
   "metadata": {},
   "outputs": [
    {
     "data": {
      "text/html": [
       "<div>\n",
       "<style scoped>\n",
       "    .dataframe tbody tr th:only-of-type {\n",
       "        vertical-align: middle;\n",
       "    }\n",
       "\n",
       "    .dataframe tbody tr th {\n",
       "        vertical-align: top;\n",
       "    }\n",
       "\n",
       "    .dataframe thead th {\n",
       "        text-align: right;\n",
       "    }\n",
       "</style>\n",
       "<table border=\"1\" class=\"dataframe\">\n",
       "  <thead>\n",
       "    <tr style=\"text-align: right;\">\n",
       "      <th></th>\n",
       "      <th>path</th>\n",
       "      <th>Edema</th>\n",
       "      <th>Pleural Effusion</th>\n",
       "      <th>im_key</th>\n",
       "    </tr>\n",
       "  </thead>\n",
       "  <tbody>\n",
       "    <tr>\n",
       "      <th>0</th>\n",
       "      <td>/home/jmryan/teams/dsc-180a---a14-[88137]/MIMI...</td>\n",
       "      <td>0.0</td>\n",
       "      <td>0.0</td>\n",
       "      <td>6ad03ed1-97ee17ee-9cf8b320-f7011003-cd93b42d.png</td>\n",
       "    </tr>\n",
       "    <tr>\n",
       "      <th>1</th>\n",
       "      <td>/home/jmryan/teams/dsc-180a---a14-[88137]/MIMI...</td>\n",
       "      <td>0.0</td>\n",
       "      <td>1.0</td>\n",
       "      <td>5aa15ba6-55f5e96e-39cea686-7c3b28b2-b8c97a88.png</td>\n",
       "    </tr>\n",
       "    <tr>\n",
       "      <th>2</th>\n",
       "      <td>/home/jmryan/teams/dsc-180a---a14-[88137]/MIMI...</td>\n",
       "      <td>1.0</td>\n",
       "      <td>1.0</td>\n",
       "      <td>54affd39-8bf24209-232bac8a-df6c277a-398ee8a5.png</td>\n",
       "    </tr>\n",
       "    <tr>\n",
       "      <th>3</th>\n",
       "      <td>/home/jmryan/teams/dsc-180a---a14-[88137]/MIMI...</td>\n",
       "      <td>0.0</td>\n",
       "      <td>0.0</td>\n",
       "      <td>0009a9fb-eb905e90-824cad7c-16d40468-007f0038.png</td>\n",
       "    </tr>\n",
       "    <tr>\n",
       "      <th>4</th>\n",
       "      <td>/home/jmryan/teams/dsc-180a---a14-[88137]/MIMI...</td>\n",
       "      <td>1.0</td>\n",
       "      <td>1.0</td>\n",
       "      <td>7b25b3ed-e780a527-319cb7b3-02d5d071-f1cddee9.png</td>\n",
       "    </tr>\n",
       "    <tr>\n",
       "      <th>...</th>\n",
       "      <td>...</td>\n",
       "      <td>...</td>\n",
       "      <td>...</td>\n",
       "      <td>...</td>\n",
       "    </tr>\n",
       "    <tr>\n",
       "      <th>33698</th>\n",
       "      <td>/home/jmryan/teams/dsc-180a---a14-[88137]/MIMI...</td>\n",
       "      <td>1.0</td>\n",
       "      <td>1.0</td>\n",
       "      <td>a29987d8-abd13298-7a067b12-620f9fdb-103ecf53.png</td>\n",
       "    </tr>\n",
       "    <tr>\n",
       "      <th>33699</th>\n",
       "      <td>/home/jmryan/teams/dsc-180a---a14-[88137]/MIMI...</td>\n",
       "      <td>1.0</td>\n",
       "      <td>0.0</td>\n",
       "      <td>90cc8b7a-b89b1a56-6e5b0c04-409b50c7-30092d26.png</td>\n",
       "    </tr>\n",
       "    <tr>\n",
       "      <th>33700</th>\n",
       "      <td>/home/jmryan/teams/dsc-180a---a14-[88137]/MIMI...</td>\n",
       "      <td>0.0</td>\n",
       "      <td>0.0</td>\n",
       "      <td>518011e2-346dbd44-3e738335-c5006bf8-d69f6b68.png</td>\n",
       "    </tr>\n",
       "    <tr>\n",
       "      <th>33701</th>\n",
       "      <td>/home/jmryan/teams/dsc-180a---a14-[88137]/MIMI...</td>\n",
       "      <td>0.0</td>\n",
       "      <td>1.0</td>\n",
       "      <td>1427ad57-5bf4f3e6-90be02f3-d1760987-99d7f2ce.png</td>\n",
       "    </tr>\n",
       "    <tr>\n",
       "      <th>33702</th>\n",
       "      <td>/home/jmryan/teams/dsc-180a---a14-[88137]/MIMI...</td>\n",
       "      <td>0.0</td>\n",
       "      <td>1.0</td>\n",
       "      <td>23ba9adb-5344e3bc-0a9e5a61-80f56ec1-df4c0a97.png</td>\n",
       "    </tr>\n",
       "  </tbody>\n",
       "</table>\n",
       "<p>33703 rows × 4 columns</p>\n",
       "</div>"
      ],
      "text/plain": [
       "                                                    path  Edema  \\\n",
       "0      /home/jmryan/teams/dsc-180a---a14-[88137]/MIMI...    0.0   \n",
       "1      /home/jmryan/teams/dsc-180a---a14-[88137]/MIMI...    0.0   \n",
       "2      /home/jmryan/teams/dsc-180a---a14-[88137]/MIMI...    1.0   \n",
       "3      /home/jmryan/teams/dsc-180a---a14-[88137]/MIMI...    0.0   \n",
       "4      /home/jmryan/teams/dsc-180a---a14-[88137]/MIMI...    1.0   \n",
       "...                                                  ...    ...   \n",
       "33698  /home/jmryan/teams/dsc-180a---a14-[88137]/MIMI...    1.0   \n",
       "33699  /home/jmryan/teams/dsc-180a---a14-[88137]/MIMI...    1.0   \n",
       "33700  /home/jmryan/teams/dsc-180a---a14-[88137]/MIMI...    0.0   \n",
       "33701  /home/jmryan/teams/dsc-180a---a14-[88137]/MIMI...    0.0   \n",
       "33702  /home/jmryan/teams/dsc-180a---a14-[88137]/MIMI...    0.0   \n",
       "\n",
       "       Pleural Effusion                                            im_key  \n",
       "0                   0.0  6ad03ed1-97ee17ee-9cf8b320-f7011003-cd93b42d.png  \n",
       "1                   1.0  5aa15ba6-55f5e96e-39cea686-7c3b28b2-b8c97a88.png  \n",
       "2                   1.0  54affd39-8bf24209-232bac8a-df6c277a-398ee8a5.png  \n",
       "3                   0.0  0009a9fb-eb905e90-824cad7c-16d40468-007f0038.png  \n",
       "4                   1.0  7b25b3ed-e780a527-319cb7b3-02d5d071-f1cddee9.png  \n",
       "...                 ...                                               ...  \n",
       "33698               1.0  a29987d8-abd13298-7a067b12-620f9fdb-103ecf53.png  \n",
       "33699               0.0  90cc8b7a-b89b1a56-6e5b0c04-409b50c7-30092d26.png  \n",
       "33700               0.0  518011e2-346dbd44-3e738335-c5006bf8-d69f6b68.png  \n",
       "33701               1.0  1427ad57-5bf4f3e6-90be02f3-d1760987-99d7f2ce.png  \n",
       "33702               1.0  23ba9adb-5344e3bc-0a9e5a61-80f56ec1-df4c0a97.png  \n",
       "\n",
       "[33703 rows x 4 columns]"
      ]
     },
     "execution_count": 90,
     "metadata": {},
     "output_type": "execute_result"
    }
   ],
   "source": [
    "pd.read_csv(MIMIC_PATH + 'mimic_paths_meta.csv', index_col=0)"
   ]
  },
  {
   "cell_type": "code",
   "execution_count": 27,
   "id": "0c9268b8",
   "metadata": {},
   "outputs": [],
   "source": [
    "cont = '/home/jmryan/teams/dsc-180a---a14-[88137]/MIMIC_Images/content/training_data'"
   ]
  },
  {
   "cell_type": "code",
   "execution_count": 94,
   "id": "6793df93",
   "metadata": {},
   "outputs": [
    {
     "ename": "FileNotFoundError",
     "evalue": "[Errno 2] No such file or directory: '/home/jmryan/teams/dsc-180a---a14-[88137]/MIMIC_Images/content/training_data'",
     "output_type": "error",
     "traceback": [
      "\u001b[0;31m---------------------------------------------------------------------------\u001b[0m",
      "\u001b[0;31mFileNotFoundError\u001b[0m                         Traceback (most recent call last)",
      "\u001b[0;32m/tmp/ipykernel_2169/688990475.py\u001b[0m in \u001b[0;36m<module>\u001b[0;34m\u001b[0m\n\u001b[0;32m----> 1\u001b[0;31m \u001b[0mlen\u001b[0m\u001b[0;34m(\u001b[0m\u001b[0mos\u001b[0m\u001b[0;34m.\u001b[0m\u001b[0mlistdir\u001b[0m\u001b[0;34m(\u001b[0m\u001b[0mcont\u001b[0m\u001b[0;34m)\u001b[0m\u001b[0;34m)\u001b[0m\u001b[0;34m\u001b[0m\u001b[0;34m\u001b[0m\u001b[0m\n\u001b[0m",
      "\u001b[0;31mFileNotFoundError\u001b[0m: [Errno 2] No such file or directory: '/home/jmryan/teams/dsc-180a---a14-[88137]/MIMIC_Images/content/training_data'"
     ]
    }
   ],
   "source": [
    "len(os.listdir(cont))"
   ]
  },
  {
   "cell_type": "code",
   "execution_count": 2,
   "id": "b2ffb955",
   "metadata": {},
   "outputs": [],
   "source": [
    "NORMAL_SAVE_PATH = '/home/jmryan/teams/dsc-180a---a14-[88137]/mimic_224_pandas/'"
   ]
  },
  {
   "cell_type": "code",
   "execution_count": 3,
   "id": "3d1137df",
   "metadata": {},
   "outputs": [
    {
     "data": {
      "text/plain": [
       "8601"
      ]
     },
     "execution_count": 3,
     "metadata": {},
     "output_type": "execute_result"
    }
   ],
   "source": [
    "len(os.listdir(NORMAL_SAVE_PATH))"
   ]
  },
  {
   "cell_type": "code",
   "execution_count": 12,
   "id": "ceb73803",
   "metadata": {},
   "outputs": [],
   "source": [
    "df = pd.read_csv(df_path)"
   ]
  },
  {
   "cell_type": "code",
   "execution_count": 14,
   "id": "5f4abb84",
   "metadata": {},
   "outputs": [
    {
     "data": {
      "text/html": [
       "<div>\n",
       "<style scoped>\n",
       "    .dataframe tbody tr th:only-of-type {\n",
       "        vertical-align: middle;\n",
       "    }\n",
       "\n",
       "    .dataframe tbody tr th {\n",
       "        vertical-align: top;\n",
       "    }\n",
       "\n",
       "    .dataframe thead th {\n",
       "        text-align: right;\n",
       "    }\n",
       "</style>\n",
       "<table border=\"1\" class=\"dataframe\">\n",
       "  <thead>\n",
       "    <tr style=\"text-align: right;\">\n",
       "      <th></th>\n",
       "      <th>Unnamed: 0</th>\n",
       "      <th>path</th>\n",
       "      <th>Pleural Effusion</th>\n",
       "    </tr>\n",
       "    <tr>\n",
       "      <th>Edema</th>\n",
       "      <th></th>\n",
       "      <th></th>\n",
       "      <th></th>\n",
       "    </tr>\n",
       "  </thead>\n",
       "  <tbody>\n",
       "    <tr>\n",
       "      <th>0.0</th>\n",
       "      <td>18277</td>\n",
       "      <td>18277</td>\n",
       "      <td>18277</td>\n",
       "    </tr>\n",
       "    <tr>\n",
       "      <th>1.0</th>\n",
       "      <td>17426</td>\n",
       "      <td>17426</td>\n",
       "      <td>17426</td>\n",
       "    </tr>\n",
       "  </tbody>\n",
       "</table>\n",
       "</div>"
      ],
      "text/plain": [
       "       Unnamed: 0   path  Pleural Effusion\n",
       "Edema                                     \n",
       "0.0         18277  18277             18277\n",
       "1.0         17426  17426             17426"
      ]
     },
     "execution_count": 14,
     "metadata": {},
     "output_type": "execute_result"
    }
   ],
   "source": [
    "df.groupby('Edema').count()"
   ]
  },
  {
   "cell_type": "code",
   "execution_count": 21,
   "id": "092a9a32",
   "metadata": {},
   "outputs": [],
   "source": [
    "def change_im(path):\n",
    "    im = Image.open(path)\n",
    "    tens = T.ToTensor()\n",
    "    resize = T.Resize(SIZE, interpolation=T.InterpolationMode.BILINEAR)\n",
    "    im = tens(resize(im))[0]\n",
    "    return im"
   ]
  },
  {
   "cell_type": "code",
   "execution_count": 24,
   "id": "bd58b977",
   "metadata": {},
   "outputs": [
    {
     "data": {
      "text/plain": [
       "<matplotlib.image.AxesImage at 0x7fd7a0998c10>"
      ]
     },
     "execution_count": 24,
     "metadata": {},
     "output_type": "execute_result"
    },
    {
     "data": {
      "image/png": "[encoded data removed]",
      "text/plain": [
       "<Figure size 432x288 with 1 Axes>"
      ]
     },
     "metadata": {
      "needs_background": "light"
     },
     "output_type": "display_data"
    }
   ],
   "source": [
    "plt.imshow(change_im(DATA_DIR_PATH+ex))"
   ]
  },
  {
   "cell_type": "code",
   "execution_count": 26,
   "id": "3388aabb",
   "metadata": {},
   "outputs": [
    {
     "data": {
      "text/plain": [
       "torch.Size([256, 256])"
      ]
     },
     "execution_count": 26,
     "metadata": {},
     "output_type": "execute_result"
    }
   ],
   "source": [
    "change_im(DATA_DIR_PATH+ex)"
   ]
  },
  {
   "cell_type": "code",
   "execution_count": null,
   "id": "a0bfe42f",
   "metadata": {},
   "outputs": [],
   "source": []
  }
 ],
 "metadata": {
  "kernelspec": {
   "display_name": "Python 3 (ipykernel)",
   "language": "python",
   "name": "python3"
  },
  "language_info": {
   "codemirror_mode": {
    "name": "ipython",
    "version": 3
   },
   "file_extension": ".py",
   "mimetype": "text/x-python",
   "name": "python",
   "nbconvert_exporter": "python",
   "pygments_lexer": "ipython3",
   "version": "3.9.5"
  }
 },
 "nbformat": 4,
 "nbformat_minor": 5
}
