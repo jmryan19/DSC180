{
 "cells": [
  {
   "cell_type": "markdown",
   "id": "7db8e719",
   "metadata": {},
   "source": [
    "# Imports"
   ]
  },
  {
   "cell_type": "code",
   "execution_count": 1,
   "id": "fb294ee7",
   "metadata": {},
   "outputs": [
    {
     "name": "stderr",
     "output_type": "stream",
     "text": [
      "/opt/conda/lib/python3.9/site-packages/scipy/__init__.py:146: UserWarning: A NumPy version >=1.16.5 and <1.23.0 is required for this version of SciPy (detected version 1.24.2\n",
      "  warnings.warn(f\"A NumPy version >={np_minversion} and <{np_maxversion}\"\n"
     ]
    }
   ],
   "source": [
    "import pandas as pd\n",
    "import numpy as np\n",
    "import torch\n",
    "import torch.nn as nn\n",
    "import os, sys\n",
    "import math\n",
    "import seaborn as sns\n",
    "import pytorch_lightning as pl\n",
    "from pytorch_lightning.callbacks.early_stopping import EarlyStopping\n",
    "from torchvision.models import resnet152, ResNet152_Weights\n",
    "from torch.utils.data import Dataset, DataLoader\n",
    "from torchvision.transforms import functional as Func\n",
    "from torchvision import transforms as T\n",
    "from PIL import Image\n",
    "from torchvision import transforms, utils\n",
    "import matplotlib.pyplot as plt\n",
    "sys.path.append(os.path.dirname(os.path.realpath('.')))\n",
    "from sklearn.model_selection import train_test_split"
   ]
  },
  {
   "cell_type": "code",
   "execution_count": 2,
   "id": "a829a8ef",
   "metadata": {},
   "outputs": [],
   "source": [
    "from helpers.supernet import SuperNet \n",
    "from helpers.gradcam import NetworkGradCAM\n",
    "from helpers.xrai import XRai\n",
    "#from helpers.classynet import ClassyNet"
   ]
  },
  {
   "cell_type": "markdown",
   "id": "a649631a",
   "metadata": {},
   "source": [
    "# Data Read-Ins"
   ]
  },
  {
   "cell_type": "code",
   "execution_count": 3,
   "id": "841f4a6d",
   "metadata": {},
   "outputs": [],
   "source": [
    "TEST_PATH = '/home/jmryan/private/DSC180/A/test/testdata.csv'\n",
    "TRAIN_PATH = '/home/jmryan/private/DSC180/A/train/traindata.csv'\n",
    "VAL_PATH = '/home/jmryan/private/DSC180/A/val/valdata.csv'\n",
    "\n",
    "FULL_HSIAO_PATH = '/home/jmryan/teams/dsc-180a---a14-[88137]/segmented_datapaths_meta.csv'\n",
    "HSIAO_DIR_PATH = '/home/jmryan/teams/dsc-180a---a14-[88137]/bnpp_224_pandas/'\n",
    "HSIAO_LUNG_PATH = '/home/jmryan/teams/dsc-180a---a14-[88137]/seg_lung_224_pandas/'\n",
    "HSIAO_HEART_PATH = '/home/jmryan/teams/dsc-180a---a14-[88137]/seg_heart_224_pandas/'\n",
    "\n",
    "FULL_MIMIC_PATH = '/home/jmryan/teams/dsc-180a---a14-[88137]/final_mimic_paths.csv'\n",
    "MIMIC_DIR_PATH = '/home/jmryan/teams/dsc-180a---a14-[88137]/mimic_224_pandas/'\n",
    "MIMIC_LUNG_PATH = '/home/jmryan/teams/dsc-180a---a14-[88137]/mimic_seg_lung_224_pandas/'\n",
    "MIMIC_HEART_PATH = '/home/jmryan/teams/dsc-180a---a14-[88137]/mimic_seg_heart_224_pandas/'"
   ]
  },
  {
   "cell_type": "code",
   "execution_count": 58,
   "id": "567828cd",
   "metadata": {},
   "outputs": [
    {
     "data": {
      "text/plain": [
       "0.4871397582894329"
      ]
     },
     "execution_count": 58,
     "metadata": {},
     "output_type": "execute_result"
    }
   ],
   "source": [
    "mim.Edema.mean()"
   ]
  },
  {
   "cell_type": "code",
   "execution_count": 26,
   "id": "95bde9bf",
   "metadata": {},
   "outputs": [],
   "source": [
    "test = pd.read_csv(TEST_PATH, header=0, index_col=0)\n",
    "train = pd.read_csv(TRAIN_PATH, index_col = 0)\n",
    "val = pd.read_csv(VAL_PATH, index_col = 0)\n",
    "seg = pd.read_csv(FULL_HSIAO_PATH, index_col = 0)\n",
    "mim = pd.read_csv(FULL_MIMIC_PATH, index_col=0)\n",
    "seg['key'] = seg.filepaths.apply(lambda x: x.split('/')[0])"
   ]
  },
  {
   "cell_type": "code",
   "execution_count": 36,
   "id": "7e348110",
   "metadata": {},
   "outputs": [],
   "source": [
    "class ImageDataset(Dataset):\n",
    "    def __init__(self, df, mimic, transform=None, target_transform=None, seg = False):\n",
    "        self.df = df\n",
    "        self.transform = transform\n",
    "        self.target_transform = target_transform\n",
    "        self.seg = seg\n",
    "        if mimic:\n",
    "            self.path = MIMIC_DIR_PATH\n",
    "            if self.seg:\n",
    "                self.heart = MIMIC_HEART_PATH\n",
    "                self.lung = MIMIC_LUNG_PATH\n",
    "        else:\n",
    "            self.path = HSIAO_DIR_PATH\n",
    "            if self.seg:\n",
    "                self.heart = HSIAO_HEART_PATH\n",
    "                self.lung = HSIAO_LUNG_PATH\n",
    "    \n",
    "    def __len__(self):\n",
    "        return len(self.df)\n",
    "\n",
    "    def __getitem__(self, idx):\n",
    "        row = self.df[idx]\n",
    "        filepath = row[1]\n",
    "        \n",
    "        val = row[0]\n",
    "        if self.seg:\n",
    "            full = torch.load(self.path + filepath + '/' + filepath + '_224.pandas')\n",
    "            lung = torch.load(self.lung + filepath + '/' + filepath + '_224.pandas')\n",
    "            heart = torch.load(self.heart + filepath + '/' + filepath + '_224.pandas')\n",
    "            im = torch.stack([full, lung, heart])\n",
    "#             print(self.path + filepath + '/' + filepath + '_224.pandas', \n",
    "#                   self.lung + filepath + '/' + filepath + '_224.pandas',\n",
    "#                  self.heart + filepath + '/' + filepath + '_224.pandas')\n",
    "        else:\n",
    "            im = torch.load(self.path + filepath + '/' + filepath + '_224.pandas').view(1, 224, 224).expand(3, -1, -1)\n",
    "        return im, int(val)"
   ]
  },
  {
   "cell_type": "code",
   "execution_count": 28,
   "id": "b0d56ae2",
   "metadata": {},
   "outputs": [],
   "source": [
    "hsiao_train, hsiao_val = train_test_split(seg[['heart', 'id']].to_numpy(), test_size=0.2, random_state=42)\n",
    "mim_train, temp = train_test_split(mim.to_numpy(), test_size=0.2, random_state=42)\n",
    "mim_val, mim_test = train_test_split(temp, test_size=0.5, random_state=42)"
   ]
  },
  {
   "cell_type": "code",
   "execution_count": 29,
   "id": "9ce451ef",
   "metadata": {},
   "outputs": [],
   "source": [
    "hsiao_full_train_dataset = ImageDataset(hsiao_train, mimic=False, seg=False)\n",
    "hsiao_full_val_dataset = ImageDataset(hsiao_val, mimic=False, seg=False)\n",
    "\n",
    "mim_full_train_dataset = ImageDataset(mim_train, mimic=True, seg=False)\n",
    "mim_full_val_dataset = ImageDataset(mim_val, mimic=True, seg=False)\n",
    "mim_full_test_dataset = ImageDataset(mim_test, mimic=True, seg=False)\n",
    "\n",
    "\n",
    "hsiao_seg_train_dataset = ImageDataset(hsiao_train, mimic=False, seg=True)\n",
    "hsiao_seg_val_dataset = ImageDataset(hsiao_val, mimic=False, seg=True)\n",
    "\n",
    "mim_seg_train_dataset = ImageDataset(mim_train, mimic=True, seg=True)\n",
    "mim_seg_val_dataset = ImageDataset(mim_val, mimic=True, seg=True)\n",
    "mim_seg_test_dataset = ImageDataset(mim_test, mimic=True, seg=True)"
   ]
  },
  {
   "cell_type": "code",
   "execution_count": 8,
   "id": "4b640cc5",
   "metadata": {},
   "outputs": [
    {
     "data": {
      "text/plain": [
       "1"
      ]
     },
     "execution_count": 8,
     "metadata": {},
     "output_type": "execute_result"
    }
   ],
   "source": [
    "hsiao_full_train_dataset[0][1]"
   ]
  },
  {
   "cell_type": "code",
   "execution_count": 9,
   "id": "5749b316",
   "metadata": {},
   "outputs": [
    {
     "data": {
      "text/plain": [
       "1"
      ]
     },
     "execution_count": 9,
     "metadata": {},
     "output_type": "execute_result"
    }
   ],
   "source": [
    "mim_full_train_dataset[0][1]"
   ]
  },
  {
   "cell_type": "code",
   "execution_count": 40,
   "id": "921f4bf9",
   "metadata": {},
   "outputs": [],
   "source": [
    "BATCH_SIZE = 32\n",
    "hsiao_full_train_dl = DataLoader(hsiao_full_train_dataset, batch_size=BATCH_SIZE, num_workers=16, shuffle=True)\n",
    "hsiao_full_val_dl = DataLoader(hsiao_full_val_dataset, batch_size=BATCH_SIZE, num_workers = 16, shuffle=False)\n",
    "\n",
    "hsiao_seg_train_dl = DataLoader(hsiao_seg_train_dataset, batch_size=BATCH_SIZE, num_workers=16, shuffle=True)\n",
    "hsiao_seg_val_dl = DataLoader(hsiao_seg_val_dataset, batch_size=BATCH_SIZE, num_workers = 16, shuffle=False)\n",
    "\n",
    "mim_full_train_dl = DataLoader(mim_full_train_dataset, batch_size=BATCH_SIZE, num_workers=16, shuffle=True)\n",
    "mim_full_val_dl = DataLoader(mim_full_val_dataset, batch_size=BATCH_SIZE, num_workers = 16, shuffle=False)\n",
    "\n",
    "mim_seg_train_dl = DataLoader(mim_seg_train_dataset, batch_size=BATCH_SIZE, num_workers=16, shuffle=True)\n",
    "mim_seg_val_dl = DataLoader(mim_seg_val_dataset, batch_size=BATCH_SIZE, num_workers = 16, shuffle=False)"
   ]
  },
  {
   "cell_type": "markdown",
   "id": "21e1cf49",
   "metadata": {},
   "source": [
    "# Model"
   ]
  },
  {
   "cell_type": "code",
   "execution_count": 4,
   "id": "31821d9e",
   "metadata": {},
   "outputs": [],
   "source": [
    "import torch\n",
    "import numpy as np\n",
    "import pandas as pd\n",
    "import math\n",
    "import torch.nn as nn\n",
    "import pytorch_lightning as pl\n",
    "from torchvision.models import resnet152, ResNet152_Weights\n",
    "from torch.utils.data import Dataset, DataLoader\n",
    "from torchvision.transforms import functional as Func\n",
    "from torchvision import transforms as T\n",
    "from torch.nn import functional as F\n",
    "from PIL import Image\n",
    "from torchvision import transforms, utils\n",
    "import matplotlib.pyplot as plt\n",
    "from sklearn.metrics import roc_auc_score, precision_score, accuracy_score, confusion_matrix, roc_curve, precision_recall_curve\n",
    "from helpers.lightning_interface import *\n",
    "import matplotlib as mpl\n",
    "from skimage.transform import resize\n",
    "import os"
   ]
  },
  {
   "cell_type": "code",
   "execution_count": 9,
   "id": "fe4545bb",
   "metadata": {},
   "outputs": [],
   "source": [
    "class ClassyNet(SuperFace):\n",
    "    def __init__(self, title, layer_defs, linear_layers, type_model = 'classifier', lr = 1e-3, is_transfer=False, model=None, lr_scheduler = [], batch_size =32, print_on = True):\n",
    "        super().__init__(layer_defs = layer_defs, model = model, lr_scheduler = lr_scheduler, lr=lr)\n",
    "        \n",
    "        self.title = title\n",
    "        self.model = model\n",
    "        self.print = print_on\n",
    "        self.linear_layers = linear_layers\n",
    "        self.grad = False\n",
    "        self.val_heart_true_epoch = np.array([])\n",
    "        self.val_heart_hat_epoch = np.array([])\n",
    "        self.train_heart_true_epoch = np.array([])\n",
    "        self.train_heart_hat_epoch = np.array([])\n",
    "        self.val_mae_epoch = np.array([])\n",
    "        self.train_mae_epoch = np.array([])\n",
    "        self.train_loss_epoch = np.array([])\n",
    "        self.val_loss_epoch = np.array([])\n",
    "        self.val_auc = np.array([])\n",
    "        self.init_model()\n",
    "        \n",
    "#         self.l1_loss = nn.L1Loss()\n",
    "#         self.l2_loss = nn.MSELoss()\n",
    "#         self.l1_str = l1\n",
    "#         self.l2_str = l2\n",
    "    \n",
    "        \n",
    "        self.tr_fpath = self.get_savefname(dset='train')\n",
    "        self.val_fpath = self.get_savefname(dset='valid')\n",
    "        \n",
    "        if os.path.isfile(self.tr_fpath):\n",
    "            os.remove(self.tr_fpath)\n",
    "            os.remove(self.val_fpath)\n",
    "#             print('Experiment Title Already Exists: Choose New Title')\n",
    "#             assert False\n",
    "        \n",
    "        self.BATCH_SIZE = batch_size\n",
    "        if type_model == 'regressor':\n",
    "            self.loss_func = self.mae\n",
    "            \n",
    "        elif type_model == 'classifier':\n",
    "            self.loss_func = self.cbe\n",
    "            \n",
    "        else:\n",
    "            print('Invalid Loss Func: Not Implemented')\n",
    "            assert False\n",
    "            \n",
    "    def get_savefname(self, dset='train'):\n",
    "        return f\"epoch_logs/{self.title}_logs_{dset}.csv\"\n",
    "    \n",
    "    def configure_optimizers(self):\n",
    "        optim = torch.optim.Adam(self.parameters(), lr=self.lr, weight_decay=0.9) \n",
    "        lr_sched = torch.optim.lr_scheduler.ReduceLROnPlateau(optim, patience = 3, verbose=True)\n",
    "        return {\"optimizer\": optim}# \"lr_scheduler\": {'scheduler': lr_sched, 'monitor': 'val_auc', \n",
    "                                    #                'interval': 'epoch'}}\n",
    "    \n",
    "    def init_model(self):\n",
    "        layers = list(self.model.children())\n",
    "        lin = layers[-1]\n",
    "        layers = layers[:-1]\n",
    "        temp_lin = [nn.Linear(num_in,num_out) for num_in, num_out in self.linear_layers]\n",
    "        total_lin = []\n",
    "        for lin in temp_lin[:-1]:\n",
    "            #total_lin.append(nn.Dropout(0.75))\n",
    "            total_lin.append(lin)\n",
    "            total_lin.append(nn.ReLU())\n",
    "            total_lin.append(nn.Dropout(0.75))\n",
    "        total_lin.append(temp_lin[-1])\n",
    "#         total_lin.append(nn.LogSoftmax())\n",
    "        self.regresser = nn.Sequential(*total_lin)\n",
    "        self.layers = nn.Sequential(*layers)\n",
    "        \n",
    "    def forward(self, x):\n",
    "        if self.grad:\n",
    "            represents = self.layers(x).flatten(1)\n",
    "            y_hat = self.regresser(represents)\n",
    "        else:\n",
    "            represents = x\n",
    "            for i in range(len(self.layers)):\n",
    "                if True:#self.current_epoch >= 5 and (i == 8 or i==7 or i ==6 or i==5 or i==4):\n",
    "                    represents = self.layers[i](represents)\n",
    "                    \n",
    "#                 elif self.current_epoch >= 10 and i == 7:\n",
    "#                     represents = self.layers[i](represents)\n",
    "                    \n",
    "#                 elif self.current_epoch >= 15 and i == 6:\n",
    "#                     represents = self.layers[i](represents)\n",
    "                    \n",
    "#                 elif self.current_epoch >= 20 and i == 5:\n",
    "#                     represents = self.layers[i](represents)\n",
    "\n",
    "                else:\n",
    "                    with torch.no_grad():\n",
    "                        represents = self.layers[i](represents)\n",
    "            y_hat = self.regresser(represents.flatten(1))\n",
    "        del x\n",
    "        return y_hat\n",
    "    \n",
    "    \n",
    "    def turn_grad(self, boo):\n",
    "        self.grad = boo\n",
    "    \n",
    "    def training_step(self, batch, batch_idx):\n",
    "        x, y = batch\n",
    "        \n",
    "        y_hat = self(x)\n",
    "        #print(y_hat.detach().mean().item(), y.mean().item(), y_hat.detach().median().item(), y.median().item())\n",
    "        del x\n",
    "        \n",
    "#         loss = self.loss_func(y_hat, y)\n",
    "        \n",
    "        loss = self.loss_func(y_hat, y)\n",
    "        \n",
    "        arged = F.softmax(y_hat.detach())[:,1]\n",
    "        \n",
    "\n",
    "        \n",
    "        loss_dic = {'loss': loss,\n",
    "                    'y_hat': arged,\n",
    "                    'y_true': y\n",
    "                   }\n",
    "        \n",
    "        return loss_dic\n",
    "    \n",
    "    def validation_step(self, batch, batch_idx):\n",
    "        x, y = batch\n",
    "        \n",
    "        y_hat = self(x)\n",
    "        #print(y_hat.detach().mean().item(), y.mean().item(), y_hat.detach().median().item(), y.median().item())\n",
    "        del x\n",
    "        \n",
    "#         loss = self.loss_func(y_hat, y)\n",
    "        \n",
    "        loss = self.loss_func(y_hat, y).detach()\n",
    "        \n",
    "        arged = F.softmax(y_hat.detach())[:,1]\n",
    "\n",
    "#         arged = self.softmax_np(y_hat.cpu().detach().numpy())[:,1]\n",
    "    \n",
    "#         print(f\"Arged: {arged}\")\n",
    "\n",
    "        \n",
    "        loss_dic = {'loss': loss,\n",
    "                    'y_hat': arged,\n",
    "                    'y_true': y\n",
    "                   }\n",
    "        \n",
    "        return loss_dic\n",
    "    \n",
    "        \n",
    "    def training_step_end(self, batch_loss):\n",
    "        total_loss = batch_loss['loss'].mean()\n",
    "        heart_true = batch_loss['y_true'].to('cpu').numpy()\n",
    "        heart_hat = batch_loss['y_hat'].to('cpu').numpy()\n",
    "        \n",
    "        self.train_heart_true_epoch = np.append(self.train_heart_true_epoch, heart_true)\n",
    "        self.train_heart_hat_epoch = np.append(self.train_heart_hat_epoch, heart_hat)\n",
    "        \n",
    "        torch.cuda.empty_cache()\n",
    "        out = 'training_step (pre del) mem %:', torch.cuda.memory_allocated() / torch.cuda.max_memory_allocated()\n",
    "        #print(out)        \n",
    "        return total_loss\n",
    "    \n",
    "    def validation_step_end(self, batch_loss):\n",
    "        total_loss = batch_loss['loss'].mean()\n",
    "        heart_true = batch_loss['y_true'].to('cpu').numpy()\n",
    "        heart_hat = batch_loss['y_hat'].to('cpu').numpy()\n",
    "        \n",
    "        \n",
    "        self.val_heart_true_epoch = np.append(self.val_heart_true_epoch, heart_true)\n",
    "        self.val_heart_hat_epoch = np.append(self.val_heart_hat_epoch, heart_hat)\n",
    "        \n",
    "        return total_loss\n",
    "        \n",
    "    def training_epoch_end(self, step_outputs):\n",
    "        \n",
    "        losses = [loss['loss'] for loss in step_outputs]\n",
    "        \n",
    "        heart_true = self.train_heart_true_epoch\n",
    "        heart_hat = self.train_heart_hat_epoch\n",
    "        total_loss = sum(losses)/len(losses)\n",
    "        #print(heart_hat)\n",
    "        auc = roc_auc_score(heart_true, heart_hat)\n",
    "        prc = precision_score(heart_true, (heart_hat > 0.5).astype(int), zero_division=0)\n",
    "        acc = accuracy_score(heart_true, (heart_hat > 0.5).astype(int))\n",
    "        \n",
    "# #         self.log('train_AUC', auc,\n",
    "#                 on_step=False, on_epoch=True, prog_bar=True, batch_size=self.BATCH_SIZE)\n",
    "        \n",
    "#         self.log('train_PRC', prc,\n",
    "#                 on_step=False, on_epoch=True, prog_bar=True, batch_size=self.BATCH_SIZE)\n",
    "        \n",
    "        self.log('loss', total_loss,\n",
    "                on_step=False, on_epoch=True, prog_bar=False, batch_size=self.BATCH_SIZE)\n",
    "        \n",
    "        \n",
    "        info_dic = {'Epoch': [self.current_epoch], 'AUC': [auc], 'PRC': [prc], 'Accuracy': [acc], 'loss':[total_loss.item()]}\n",
    "        print(f\"Epoch {self.current_epoch}\")\n",
    "        if self.print:\n",
    "            print(f\"\\tTrain {info_dic};\")\n",
    "#        print(f\"\\tTrain loss: {total_loss.item()}; mean_mae: {epoch_mae.mean()};\" + \n",
    " #            f\" mean_heart_hat: {heart_hat.mean()}; mean_heart_true: {heart_true.mean()}\")\n",
    "    \n",
    "        if not os.path.isfile(self.tr_fpath):\n",
    "            pd.DataFrame.from_dict(info_dic).to_csv(self.tr_fpath)\n",
    "            \n",
    "        else:\n",
    "            pd.concat([pd.read_csv(self.tr_fpath, index_col=0), pd.DataFrame.from_dict(info_dic)]).to_csv(self.tr_fpath)\n",
    "            \n",
    "        \n",
    "        self.train_loss_epoch = np.append(self.train_loss_epoch, total_loss.item())\n",
    "        \n",
    "        self.train_heart_true_epoch = np.array([])\n",
    "        self.train_heart_hat_epoch = np.array([])\n",
    "        #sch = self.lr_schedulers()\n",
    "        #print(self.lr_schedulers())\n",
    "\n",
    "        # If the selected scheduler is a ReduceLROnPlateau scheduler.\n",
    "\n",
    "        return None\n",
    "        \n",
    "    def validation_epoch_end(self, step_outputs):\n",
    "        losses = step_outputs\n",
    "\n",
    "        heart_true = self.val_heart_true_epoch\n",
    "        heart_hat = self.val_heart_hat_epoch\n",
    "        total_loss = sum(losses)/len(losses)\n",
    "        \n",
    "#         print(f'HAT: {heart_hat}')\n",
    "\n",
    "        auc = roc_auc_score(heart_true, heart_hat)\n",
    "        prc = precision_score(heart_true, (heart_hat > 0.5).astype(int), zero_division=0)\n",
    "        acc = accuracy_score(heart_true, (heart_hat > 0.5).astype(int))\n",
    "        self.log('val_auc', auc)\n",
    "\n",
    "#         self.log('val_AUC', auc,\n",
    "#                 on_step=False, on_epoch=True, prog_bar=True, batch_size=self.BATCH_SIZE)\n",
    "        \n",
    "#         self.log('val_PRC', prc,\n",
    "#                 on_step=False, on_epoch=True, prog_bar=True, batch_size=self.BATCH_SIZE)\n",
    "        \n",
    "# #         self.log('val_loss', total_loss,\n",
    "#                 on_step=False, on_epoch=True, prog_bar=True, batch_size=self.BATCH_SIZE)\n",
    "        \n",
    "        \n",
    "        info_dic = {'Epoch': [self.current_epoch], 'AUC': [auc], 'PRC': [prc], 'Accuracy': [acc], 'loss':[total_loss.item()]}  \n",
    "        \n",
    "        if self.print:\n",
    "            print(f\"\\tVal {info_dic}\")\n",
    "#         print(f\"\\tVal loss: {total_loss.item()}; mean_mae: {epoch_mae.mean()};\" + \n",
    "#              f\" mean_heart_hat: {heart_hat.mean()}; mean_heart_true: {heart_true.mean()}\")\n",
    "\n",
    "        if not os.path.isfile(self.val_fpath):\n",
    "            pd.DataFrame.from_dict(info_dic).to_csv(self.val_fpath)\n",
    "            \n",
    "        else:\n",
    "            pd.concat([pd.read_csv(self.val_fpath, index_col=0), pd.DataFrame.from_dict(info_dic)]).to_csv(self.val_fpath)\n",
    "        \n",
    "        self.val_auc = np.append(self.val_auc, auc)\n",
    "        self.val_heart_true_epoch = np.array([])\n",
    "        self.val_heart_hat_epoch = np.array([])\n",
    "        self.val_loss_epoch = np.append(self.val_loss_epoch, total_loss.item())\n",
    "\n",
    "        \n",
    "        return None\n",
    "        \n",
    "    def get_classbalance_weights(self, y_hat, y_true, beta=0.999):\n",
    "        # Get class counts\n",
    "        classes, counts = torch.unique(y_true, return_counts=True)\n",
    "#         print(classes,counts)\n",
    "        if 1 not in classes: # Case where there are no sick samples\n",
    "            counts = torch.tensor([counts[0], 0]).type_as(y_hat)#.device)\n",
    "        if 0 not in classes: # Case where there are no healthy samples\n",
    "            counts = torch.tensor([0, counts[0]]).type_as(y_hat)#.device)\n",
    "        # Calculate weight for each class\n",
    "        beta = torch.tensor(beta).type_as(y_hat)#.device)        \n",
    "        one = torch.tensor(1.).type_as(y_hat)#.device)\n",
    "        weights = (one - torch.pow(beta, counts)) / (one - beta)\n",
    "        return weights        \n",
    "    \n",
    "    def cbe(self, y_hat, y_true, beta=0.9):\n",
    "        weights = self.get_classbalance_weights(y_hat, y_true, beta=beta)\n",
    "#         print(weights)\n",
    "#         print(torch.unique(y_hat))\n",
    "        cb_ce_loss = F.cross_entropy(y_hat, y_true, weight=weights)\n",
    "        return cb_ce_loss \n",
    "    \n",
    "    def mae(self, y_hat, y_true):\n",
    "        y_true = y_true.view(-1,1)\n",
    "        return torch.abs(y_true - y_hat)\n",
    "    \n",
    "    def softmax_np(x, axis=1):\n",
    "        return np.exp(x)/np.sum(np.exp(x), axis=axis).reshape(-1,1)"
   ]
  },
  {
   "cell_type": "code",
   "execution_count": 10,
   "id": "07f25e6f",
   "metadata": {},
   "outputs": [
    {
     "data": {
      "text/plain": [
       "True"
      ]
     },
     "execution_count": 10,
     "metadata": {},
     "output_type": "execute_result"
    }
   ],
   "source": [
    "torch.cuda.is_available()"
   ]
  },
  {
   "cell_type": "code",
   "execution_count": 11,
   "id": "61280aed",
   "metadata": {},
   "outputs": [],
   "source": [
    "model = resnet152(weights=ResNet152_Weights.DEFAULT)"
   ]
  },
  {
   "cell_type": "code",
   "execution_count": 13,
   "id": "8e02a194",
   "metadata": {},
   "outputs": [],
   "source": [
    "early_stop_callback = EarlyStopping(monitor=\"val_auc\", min_delta=0.01, patience=8, verbose=False, mode=\"max\",stopping_threshold = 0.9)"
   ]
  },
  {
   "cell_type": "markdown",
   "id": "baa01382",
   "metadata": {},
   "source": [
    "#### Train Loop"
   ]
  },
  {
   "cell_type": "code",
   "execution_count": 85,
   "id": "5d13dd2f",
   "metadata": {},
   "outputs": [
    {
     "name": "stdout",
     "output_type": "stream",
     "text": [
      "hsiao_base_full_9_reg\n"
     ]
    },
    {
     "name": "stderr",
     "output_type": "stream",
     "text": [
      "GPU available: True (cuda), used: True\n",
      "TPU available: False, using: 0 TPU cores\n",
      "IPU available: False, using: 0 IPUs\n",
      "HPU available: False, using: 0 HPUs\n",
      "LOCAL_RANK: 0 - CUDA_VISIBLE_DEVICES: [0]\n",
      "\n",
      "  | Name      | Type       | Params\n",
      "-----------------------------------------\n",
      "0 | model     | ResNet     | 60.2 M\n",
      "1 | regresser | Sequential | 8.4 M \n",
      "2 | layers    | Sequential | 58.1 M\n",
      "-----------------------------------------\n",
      "68.6 M    Trainable params\n",
      "0         Non-trainable params\n",
      "68.6 M    Total params\n",
      "274.375   Total estimated model params size (MB)\n"
     ]
    },
    {
     "name": "stdout",
     "output_type": "stream",
     "text": [
      "\tVal {'Epoch': [0], 'AUC': [0.4488636363636364], 'PRC': [0.6857142857142857], 'Accuracy': [0.515625], 'loss': [18.104846954345703]}\n"
     ]
    },
    {
     "name": "stderr",
     "output_type": "stream",
     "text": [
      "/tmp/ipykernel_380/1966578332.py:135: UserWarning: Implicit dimension choice for softmax has been deprecated. Change the call to include dim=X as an argument.\n",
      "  arged = F.softmax(y_hat.detach())[:,1]\n",
      "/tmp/ipykernel_380/1966578332.py:113: UserWarning: Implicit dimension choice for softmax has been deprecated. Change the call to include dim=X as an argument.\n",
      "  arged = F.softmax(y_hat.detach())[:,1]\n",
      "/tmp/ipykernel_380/1966578332.py:135: UserWarning: Implicit dimension choice for softmax has been deprecated. Change the call to include dim=X as an argument.\n",
      "  arged = F.softmax(y_hat.detach())[:,1]\n"
     ]
    },
    {
     "name": "stdout",
     "output_type": "stream",
     "text": [
      "\tVal {'Epoch': [0], 'AUC': [0.7662450289233449], 'PRC': [0.6432009626955475], 'Accuracy': [0.6432009626955475], 'loss': [0.5454248189926147]}\n",
      "Epoch 0\n",
      "\tTrain {'Epoch': [0], 'AUC': [0.6889417191153401], 'PRC': [0.6471780480199564], 'Accuracy': [0.6368559608875517], 'loss': [0.5899604558944702]};\n"
     ]
    },
    {
     "name": "stderr",
     "output_type": "stream",
     "text": [
      "/tmp/ipykernel_380/1966578332.py:113: UserWarning: Implicit dimension choice for softmax has been deprecated. Change the call to include dim=X as an argument.\n",
      "  arged = F.softmax(y_hat.detach())[:,1]\n",
      "/tmp/ipykernel_380/1966578332.py:135: UserWarning: Implicit dimension choice for softmax has been deprecated. Change the call to include dim=X as an argument.\n",
      "  arged = F.softmax(y_hat.detach())[:,1]\n"
     ]
    },
    {
     "name": "stdout",
     "output_type": "stream",
     "text": [
      "\tVal {'Epoch': [1], 'AUC': [0.7510732871969042], 'PRC': [0.6432009626955475], 'Accuracy': [0.6432009626955475], 'loss': [0.6612076163291931]}\n",
      "Epoch 1\n",
      "\tTrain {'Epoch': [1], 'AUC': [0.7645459033545051], 'PRC': [0.6471605866867244], 'Accuracy': [0.6471605866867244], 'loss': [0.5361729264259338]};\n"
     ]
    },
    {
     "name": "stderr",
     "output_type": "stream",
     "text": [
      "/tmp/ipykernel_380/1966578332.py:113: UserWarning: Implicit dimension choice for softmax has been deprecated. Change the call to include dim=X as an argument.\n",
      "  arged = F.softmax(y_hat.detach())[:,1]\n",
      "/tmp/ipykernel_380/1966578332.py:135: UserWarning: Implicit dimension choice for softmax has been deprecated. Change the call to include dim=X as an argument.\n",
      "  arged = F.softmax(y_hat.detach())[:,1]\n"
     ]
    },
    {
     "name": "stdout",
     "output_type": "stream",
     "text": [
      "\tVal {'Epoch': [2], 'AUC': [0.7795791878116536], 'PRC': [0.6432009626955475], 'Accuracy': [0.6432009626955475], 'loss': [439.4237976074219]}\n",
      "Epoch 2\n",
      "\tTrain {'Epoch': [2], 'AUC': [0.785164334386717], 'PRC': [0.6471605866867244], 'Accuracy': [0.6471605866867244], 'loss': [0.5154274702072144]};\n"
     ]
    },
    {
     "name": "stderr",
     "output_type": "stream",
     "text": [
      "/tmp/ipykernel_380/1966578332.py:113: UserWarning: Implicit dimension choice for softmax has been deprecated. Change the call to include dim=X as an argument.\n",
      "  arged = F.softmax(y_hat.detach())[:,1]\n",
      "/tmp/ipykernel_380/1966578332.py:135: UserWarning: Implicit dimension choice for softmax has been deprecated. Change the call to include dim=X as an argument.\n",
      "  arged = F.softmax(y_hat.detach())[:,1]\n"
     ]
    },
    {
     "name": "stdout",
     "output_type": "stream",
     "text": [
      "\tVal {'Epoch': [3], 'AUC': [0.7805233177214052], 'PRC': [0.6432009626955475], 'Accuracy': [0.6432009626955475], 'loss': [2.860776901245117]}\n",
      "Epoch 3\n",
      "\tTrain {'Epoch': [3], 'AUC': [0.8035335599659119], 'PRC': [0.6471605866867244], 'Accuracy': [0.6471605866867244], 'loss': [0.49804753065109253]};\n"
     ]
    },
    {
     "name": "stderr",
     "output_type": "stream",
     "text": [
      "/tmp/ipykernel_380/1966578332.py:113: UserWarning: Implicit dimension choice for softmax has been deprecated. Change the call to include dim=X as an argument.\n",
      "  arged = F.softmax(y_hat.detach())[:,1]\n",
      "/tmp/ipykernel_380/1966578332.py:135: UserWarning: Implicit dimension choice for softmax has been deprecated. Change the call to include dim=X as an argument.\n",
      "  arged = F.softmax(y_hat.detach())[:,1]\n"
     ]
    },
    {
     "name": "stdout",
     "output_type": "stream",
     "text": [
      "\tVal {'Epoch': [4], 'AUC': [0.7696955989506512], 'PRC': [0.6432009626955475], 'Accuracy': [0.6432009626955475], 'loss': [2.8487069606781006]}\n",
      "Epoch 4\n",
      "\tTrain {'Epoch': [4], 'AUC': [0.8171345497639773], 'PRC': [0.6471605866867244], 'Accuracy': [0.6471605866867244], 'loss': [0.48427751660346985]};\n"
     ]
    },
    {
     "name": "stderr",
     "output_type": "stream",
     "text": [
      "/tmp/ipykernel_380/1966578332.py:113: UserWarning: Implicit dimension choice for softmax has been deprecated. Change the call to include dim=X as an argument.\n",
      "  arged = F.softmax(y_hat.detach())[:,1]\n",
      "/tmp/ipykernel_380/1966578332.py:135: UserWarning: Implicit dimension choice for softmax has been deprecated. Change the call to include dim=X as an argument.\n",
      "  arged = F.softmax(y_hat.detach())[:,1]\n"
     ]
    },
    {
     "name": "stdout",
     "output_type": "stream",
     "text": [
      "\tVal {'Epoch': [5], 'AUC': [0.802330983393725], 'PRC': [0.6432009626955475], 'Accuracy': [0.6432009626955475], 'loss': [0.5273207426071167]}\n",
      "Epoch 5\n",
      "\tTrain {'Epoch': [5], 'AUC': [0.8247985499201662], 'PRC': [0.6471605866867244], 'Accuracy': [0.6471605866867244], 'loss': [0.47478893399238586]};\n"
     ]
    },
    {
     "name": "stderr",
     "output_type": "stream",
     "text": [
      "/tmp/ipykernel_380/1966578332.py:113: UserWarning: Implicit dimension choice for softmax has been deprecated. Change the call to include dim=X as an argument.\n",
      "  arged = F.softmax(y_hat.detach())[:,1]\n",
      "/tmp/ipykernel_380/1966578332.py:135: UserWarning: Implicit dimension choice for softmax has been deprecated. Change the call to include dim=X as an argument.\n",
      "  arged = F.softmax(y_hat.detach())[:,1]\n"
     ]
    },
    {
     "name": "stdout",
     "output_type": "stream",
     "text": [
      "\tVal {'Epoch': [6], 'AUC': [0.8004356248530959], 'PRC': [0.6432009626955475], 'Accuracy': [0.6432009626955475], 'loss': [0.7111476063728333]}\n",
      "Epoch 6\n",
      "\tTrain {'Epoch': [6], 'AUC': [0.8323050479661689], 'PRC': [0.6471605866867244], 'Accuracy': [0.6471605866867244], 'loss': [0.4700988829135895]};\n"
     ]
    },
    {
     "name": "stderr",
     "output_type": "stream",
     "text": [
      "/tmp/ipykernel_380/1966578332.py:113: UserWarning: Implicit dimension choice for softmax has been deprecated. Change the call to include dim=X as an argument.\n",
      "  arged = F.softmax(y_hat.detach())[:,1]\n",
      "/tmp/ipykernel_380/1966578332.py:135: UserWarning: Implicit dimension choice for softmax has been deprecated. Change the call to include dim=X as an argument.\n",
      "  arged = F.softmax(y_hat.detach())[:,1]\n"
     ]
    },
    {
     "name": "stdout",
     "output_type": "stream",
     "text": [
      "\tVal {'Epoch': [7], 'AUC': [0.7888493288553549], 'PRC': [0.6432009626955475], 'Accuracy': [0.6432009626955475], 'loss': [66.5290298461914]}\n",
      "Epoch 7\n",
      "\tTrain {'Epoch': [7], 'AUC': [0.8422498927439618], 'PRC': [0.6471605866867244], 'Accuracy': [0.6471605866867244], 'loss': [0.45783692598342896]};\n"
     ]
    },
    {
     "name": "stderr",
     "output_type": "stream",
     "text": [
      "/tmp/ipykernel_380/1966578332.py:113: UserWarning: Implicit dimension choice for softmax has been deprecated. Change the call to include dim=X as an argument.\n",
      "  arged = F.softmax(y_hat.detach())[:,1]\n",
      "/tmp/ipykernel_380/1966578332.py:135: UserWarning: Implicit dimension choice for softmax has been deprecated. Change the call to include dim=X as an argument.\n",
      "  arged = F.softmax(y_hat.detach())[:,1]\n"
     ]
    },
    {
     "name": "stdout",
     "output_type": "stream",
     "text": [
      "\tVal {'Epoch': [8], 'AUC': [0.8075919244948472], 'PRC': [0.6432009626955475], 'Accuracy': [0.6432009626955475], 'loss': [0.5111986398696899]}\n",
      "Epoch 8\n",
      "\tTrain {'Epoch': [8], 'AUC': [0.8414290086925704], 'PRC': [0.6471605866867244], 'Accuracy': [0.6471605866867244], 'loss': [0.45871108770370483]};\n"
     ]
    },
    {
     "name": "stderr",
     "output_type": "stream",
     "text": [
      "/tmp/ipykernel_380/1966578332.py:113: UserWarning: Implicit dimension choice for softmax has been deprecated. Change the call to include dim=X as an argument.\n",
      "  arged = F.softmax(y_hat.detach())[:,1]\n",
      "/tmp/ipykernel_380/1966578332.py:135: UserWarning: Implicit dimension choice for softmax has been deprecated. Change the call to include dim=X as an argument.\n",
      "  arged = F.softmax(y_hat.detach())[:,1]\n"
     ]
    },
    {
     "name": "stdout",
     "output_type": "stream",
     "text": [
      "\tVal {'Epoch': [9], 'AUC': [0.8185791673042369], 'PRC': [0.6432009626955475], 'Accuracy': [0.6432009626955475], 'loss': [0.5143934488296509]}\n",
      "Epoch 9\n",
      "\tTrain {'Epoch': [9], 'AUC': [0.8524212164881246], 'PRC': [0.6471605866867244], 'Accuracy': [0.6471605866867244], 'loss': [0.44556352496147156]};\n"
     ]
    },
    {
     "name": "stderr",
     "output_type": "stream",
     "text": [
      "/tmp/ipykernel_380/1966578332.py:113: UserWarning: Implicit dimension choice for softmax has been deprecated. Change the call to include dim=X as an argument.\n",
      "  arged = F.softmax(y_hat.detach())[:,1]\n",
      "/tmp/ipykernel_380/1966578332.py:135: UserWarning: Implicit dimension choice for softmax has been deprecated. Change the call to include dim=X as an argument.\n",
      "  arged = F.softmax(y_hat.detach())[:,1]\n"
     ]
    },
    {
     "name": "stdout",
     "output_type": "stream",
     "text": [
      "\tVal {'Epoch': [10], 'AUC': [0.810524287879959], 'PRC': [0.6432009626955475], 'Accuracy': [0.6432009626955475], 'loss': [0.4958389401435852]}\n",
      "Epoch 10\n",
      "\tTrain {'Epoch': [10], 'AUC': [0.8608588649283508], 'PRC': [0.6471605866867244], 'Accuracy': [0.6471605866867244], 'loss': [0.4374590218067169]};\n"
     ]
    },
    {
     "name": "stderr",
     "output_type": "stream",
     "text": [
      "/tmp/ipykernel_380/1966578332.py:113: UserWarning: Implicit dimension choice for softmax has been deprecated. Change the call to include dim=X as an argument.\n",
      "  arged = F.softmax(y_hat.detach())[:,1]\n",
      "/tmp/ipykernel_380/1966578332.py:135: UserWarning: Implicit dimension choice for softmax has been deprecated. Change the call to include dim=X as an argument.\n",
      "  arged = F.softmax(y_hat.detach())[:,1]\n"
     ]
    },
    {
     "name": "stdout",
     "output_type": "stream",
     "text": [
      "\tVal {'Epoch': [11], 'AUC': [0.8065156794974737], 'PRC': [0.6432009626955475], 'Accuracy': [0.6432009626955475], 'loss': [1.0841505527496338]}\n",
      "Epoch 11\n",
      "\tTrain {'Epoch': [11], 'AUC': [0.8630497720542843], 'PRC': [0.6471605866867244], 'Accuracy': [0.6471605866867244], 'loss': [0.43302881717681885]};\n"
     ]
    },
    {
     "name": "stderr",
     "output_type": "stream",
     "text": [
      "/tmp/ipykernel_380/1966578332.py:113: UserWarning: Implicit dimension choice for softmax has been deprecated. Change the call to include dim=X as an argument.\n",
      "  arged = F.softmax(y_hat.detach())[:,1]\n",
      "/tmp/ipykernel_380/1966578332.py:135: UserWarning: Implicit dimension choice for softmax has been deprecated. Change the call to include dim=X as an argument.\n",
      "  arged = F.softmax(y_hat.detach())[:,1]\n"
     ]
    },
    {
     "name": "stdout",
     "output_type": "stream",
     "text": [
      "\tVal {'Epoch': [12], 'AUC': [0.743470162497614], 'PRC': [0.6782905982905983], 'Accuracy': [0.6705776173285198], 'loss': [0.9319125413894653]}\n",
      "Epoch 12\n",
      "\tTrain {'Epoch': [12], 'AUC': [0.8666768794037782], 'PRC': [0.68797489263297], 'Accuracy': [0.6952237683339602], 'loss': [0.4309599697589874]};\n"
     ]
    },
    {
     "name": "stderr",
     "output_type": "stream",
     "text": [
      "/tmp/ipykernel_380/1966578332.py:113: UserWarning: Implicit dimension choice for softmax has been deprecated. Change the call to include dim=X as an argument.\n",
      "  arged = F.softmax(y_hat.detach())[:,1]\n",
      "/tmp/ipykernel_380/1966578332.py:135: UserWarning: Implicit dimension choice for softmax has been deprecated. Change the call to include dim=X as an argument.\n",
      "  arged = F.softmax(y_hat.detach())[:,1]\n"
     ]
    },
    {
     "name": "stdout",
     "output_type": "stream",
     "text": [
      "\tVal {'Epoch': [13], 'AUC': [0.8098335428770643], 'PRC': [0.7104233368907862], 'Accuracy': [0.7126955475330926], 'loss': [17.89777374267578]}\n",
      "Epoch 13\n",
      "\tTrain {'Epoch': [13], 'AUC': [0.8675224157439276], 'PRC': [0.7222569413445228], 'Accuracy': [0.7273411056788266], 'loss': [0.4283147156238556]};\n"
     ]
    },
    {
     "name": "stderr",
     "output_type": "stream",
     "text": [
      "/tmp/ipykernel_380/1966578332.py:113: UserWarning: Implicit dimension choice for softmax has been deprecated. Change the call to include dim=X as an argument.\n",
      "  arged = F.softmax(y_hat.detach())[:,1]\n",
      "/tmp/ipykernel_380/1966578332.py:135: UserWarning: Implicit dimension choice for softmax has been deprecated. Change the call to include dim=X as an argument.\n",
      "  arged = F.softmax(y_hat.detach())[:,1]\n"
     ]
    },
    {
     "name": "stdout",
     "output_type": "stream",
     "text": [
      "\tVal {'Epoch': [14], 'AUC': [0.8004233992778234], 'PRC': [0.7402234636871509], 'Accuracy': [0.7190132370637786], 'loss': [3.318085193634033]}\n",
      "Epoch 14\n",
      "\tTrain {'Epoch': [14], 'AUC': [0.8761506300926798], 'PRC': [0.7717735550277118], 'Accuracy': [0.765927040240692], 'loss': [0.4156605303287506]};\n"
     ]
    },
    {
     "name": "stderr",
     "output_type": "stream",
     "text": [
      "/tmp/ipykernel_380/1966578332.py:113: UserWarning: Implicit dimension choice for softmax has been deprecated. Change the call to include dim=X as an argument.\n",
      "  arged = F.softmax(y_hat.detach())[:,1]\n",
      "/tmp/ipykernel_380/1966578332.py:135: UserWarning: Implicit dimension choice for softmax has been deprecated. Change the call to include dim=X as an argument.\n",
      "  arged = F.softmax(y_hat.detach())[:,1]\n"
     ]
    },
    {
     "name": "stdout",
     "output_type": "stream",
     "text": [
      "\tVal {'Epoch': [15], 'AUC': [0.8193470123060274], 'PRC': [0.7580385852090032], 'Accuracy': [0.7430806257521059], 'loss': [0.5011957883834839]}\n",
      "Epoch 15\n",
      "\tTrain {'Epoch': [15], 'AUC': [0.8748092978225414], 'PRC': [0.7978267683627626], 'Accuracy': [0.7816472358029334], 'loss': [0.415927916765213]};\n"
     ]
    },
    {
     "name": "stderr",
     "output_type": "stream",
     "text": [
      "/tmp/ipykernel_380/1966578332.py:113: UserWarning: Implicit dimension choice for softmax has been deprecated. Change the call to include dim=X as an argument.\n",
      "  arged = F.softmax(y_hat.detach())[:,1]\n",
      "/tmp/ipykernel_380/1966578332.py:135: UserWarning: Implicit dimension choice for softmax has been deprecated. Change the call to include dim=X as an argument.\n",
      "  arged = F.softmax(y_hat.detach())[:,1]\n"
     ]
    },
    {
     "name": "stdout",
     "output_type": "stream",
     "text": [
      "\tVal {'Epoch': [16], 'AUC': [0.8153244036679881], 'PRC': [0.7714646464646465], 'Accuracy': [0.7448856799037304], 'loss': [0.4802647829055786]}\n",
      "Epoch 16\n",
      "\tTrain {'Epoch': [16], 'AUC': [0.8773398119052667], 'PRC': [0.8265654231319467], 'Accuracy': [0.7992478375329071], 'loss': [0.41312071681022644]};\n"
     ]
    },
    {
     "name": "stderr",
     "output_type": "stream",
     "text": [
      "/tmp/ipykernel_380/1966578332.py:113: UserWarning: Implicit dimension choice for softmax has been deprecated. Change the call to include dim=X as an argument.\n",
      "  arged = F.softmax(y_hat.detach())[:,1]\n",
      "/tmp/ipykernel_380/1966578332.py:135: UserWarning: Implicit dimension choice for softmax has been deprecated. Change the call to include dim=X as an argument.\n",
      "  arged = F.softmax(y_hat.detach())[:,1]\n"
     ]
    },
    {
     "name": "stdout",
     "output_type": "stream",
     "text": [
      "\tVal {'Epoch': [17], 'AUC': [0.8036359649607125], 'PRC': [0.7734668335419274], 'Accuracy': [0.7512033694344163], 'loss': [1.7559062242507935]}\n",
      "Epoch 17\n",
      "\tTrain {'Epoch': [17], 'AUC': [0.8824155075631239], 'PRC': [0.8460842009959257], 'Accuracy': [0.8128619781872884], 'loss': [0.40437260270118713]};\n"
     ]
    },
    {
     "name": "stderr",
     "output_type": "stream",
     "text": [
      "/tmp/ipykernel_380/1966578332.py:113: UserWarning: Implicit dimension choice for softmax has been deprecated. Change the call to include dim=X as an argument.\n",
      "  arged = F.softmax(y_hat.detach())[:,1]\n",
      "/tmp/ipykernel_380/1966578332.py:135: UserWarning: Implicit dimension choice for softmax has been deprecated. Change the call to include dim=X as an argument.\n",
      "  arged = F.softmax(y_hat.detach())[:,1]\n"
     ]
    },
    {
     "name": "stdout",
     "output_type": "stream",
     "text": [
      "\tVal {'Epoch': [18], 'AUC': [0.8053061362922906], 'PRC': [0.8507867607162235], 'Accuracy': [0.7457882069795427], 'loss': [0.4980427622795105]}\n",
      "Epoch 18\n",
      "\tTrain {'Epoch': [18], 'AUC': [0.8854565098444146], 'PRC': [0.8592558354518142], 'Accuracy': [0.8205340353516359], 'loss': [0.3979830741882324]};\n"
     ]
    },
    {
     "name": "stderr",
     "output_type": "stream",
     "text": [
      "/tmp/ipykernel_380/1966578332.py:113: UserWarning: Implicit dimension choice for softmax has been deprecated. Change the call to include dim=X as an argument.\n",
      "  arged = F.softmax(y_hat.detach())[:,1]\n",
      "/tmp/ipykernel_380/1966578332.py:135: UserWarning: Implicit dimension choice for softmax has been deprecated. Change the call to include dim=X as an argument.\n",
      "  arged = F.softmax(y_hat.detach())[:,1]\n"
     ]
    },
    {
     "name": "stdout",
     "output_type": "stream",
     "text": [
      "\tVal {'Epoch': [19], 'AUC': [0.8140413098244723], 'PRC': [0.8328402366863905], 'Accuracy': [0.762936221419976], 'loss': [0.47821876406669617]}\n",
      "Epoch 19\n",
      "\tTrain {'Epoch': [19], 'AUC': [0.8922917842915318], 'PRC': [0.8721215663354763], 'Accuracy': [0.83174125611132], 'loss': [0.39069482684135437]};\n"
     ]
    },
    {
     "name": "stderr",
     "output_type": "stream",
     "text": [
      "/tmp/ipykernel_380/1966578332.py:113: UserWarning: Implicit dimension choice for softmax has been deprecated. Change the call to include dim=X as an argument.\n",
      "  arged = F.softmax(y_hat.detach())[:,1]\n",
      "/tmp/ipykernel_380/1966578332.py:135: UserWarning: Implicit dimension choice for softmax has been deprecated. Change the call to include dim=X as an argument.\n",
      "  arged = F.softmax(y_hat.detach())[:,1]\n"
     ]
    },
    {
     "name": "stdout",
     "output_type": "stream",
     "text": [
      "\tVal {'Epoch': [20], 'AUC': [0.8288543689473542], 'PRC': [0.8084532374100719], 'Accuracy': [0.7695547533092659], 'loss': [0.4730660319328308]}\n",
      "Epoch 20\n",
      "\tTrain {'Epoch': [20], 'AUC': [0.8915762609013906], 'PRC': [0.8776620918125887], 'Accuracy': [0.833019932305378], 'loss': [0.39527571201324463]};\n"
     ]
    },
    {
     "name": "stderr",
     "output_type": "stream",
     "text": [
      "/tmp/ipykernel_380/1966578332.py:113: UserWarning: Implicit dimension choice for softmax has been deprecated. Change the call to include dim=X as an argument.\n",
      "  arged = F.softmax(y_hat.detach())[:,1]\n",
      "/tmp/ipykernel_380/1966578332.py:135: UserWarning: Implicit dimension choice for softmax has been deprecated. Change the call to include dim=X as an argument.\n",
      "  arged = F.softmax(y_hat.detach())[:,1]\n"
     ]
    },
    {
     "name": "stdout",
     "output_type": "stream",
     "text": [
      "\tVal {'Epoch': [21], 'AUC': [0.8174887248646115], 'PRC': [0.7917967008470798], 'Accuracy': [0.7506016847172082], 'loss': [0.4937630593776703]}\n",
      "Epoch 21\n",
      "\tTrain {'Epoch': [21], 'AUC': [0.9000625697387235], 'PRC': [0.8783799602013345], 'Accuracy': [0.8391124482888304], 'loss': [0.3829014003276825]};\n"
     ]
    },
    {
     "name": "stderr",
     "output_type": "stream",
     "text": [
      "/tmp/ipykernel_380/1966578332.py:113: UserWarning: Implicit dimension choice for softmax has been deprecated. Change the call to include dim=X as an argument.\n",
      "  arged = F.softmax(y_hat.detach())[:,1]\n",
      "/tmp/ipykernel_380/1966578332.py:135: UserWarning: Implicit dimension choice for softmax has been deprecated. Change the call to include dim=X as an argument.\n",
      "  arged = F.softmax(y_hat.detach())[:,1]\n"
     ]
    },
    {
     "name": "stdout",
     "output_type": "stream",
     "text": [
      "\tVal {'Epoch': [22], 'AUC': [0.8223487854088153], 'PRC': [0.7861715749039693], 'Accuracy': [0.7602286401925391], 'loss': [0.47554272413253784]}\n",
      "Epoch 22\n",
      "\tTrain {'Epoch': [22], 'AUC': [0.903810039720164], 'PRC': [0.8856270549553781], 'Accuracy': [0.8468597216998872], 'loss': [0.3787153959274292]};\n"
     ]
    },
    {
     "name": "stderr",
     "output_type": "stream",
     "text": [
      "/tmp/ipykernel_380/1966578332.py:113: UserWarning: Implicit dimension choice for softmax has been deprecated. Change the call to include dim=X as an argument.\n",
      "  arged = F.softmax(y_hat.detach())[:,1]\n",
      "/tmp/ipykernel_380/1966578332.py:135: UserWarning: Implicit dimension choice for softmax has been deprecated. Change the call to include dim=X as an argument.\n",
      "  arged = F.softmax(y_hat.detach())[:,1]\n"
     ]
    },
    {
     "name": "stdout",
     "output_type": "stream",
     "text": [
      "\tVal {'Epoch': [23], 'AUC': [0.8241954388350525], 'PRC': [0.8095238095238095], 'Accuracy': [0.7674488567990373], 'loss': [0.4773856997489929]}\n",
      "Epoch 23\n",
      "\tTrain {'Epoch': [23], 'AUC': [0.9089395616064908], 'PRC': [0.8944319659534223], 'Accuracy': [0.8547574276043626], 'loss': [0.3704429268836975]};\n"
     ]
    },
    {
     "name": "stderr",
     "output_type": "stream",
     "text": [
      "/tmp/ipykernel_380/1966578332.py:113: UserWarning: Implicit dimension choice for softmax has been deprecated. Change the call to include dim=X as an argument.\n",
      "  arged = F.softmax(y_hat.detach())[:,1]\n",
      "/tmp/ipykernel_380/1966578332.py:135: UserWarning: Implicit dimension choice for softmax has been deprecated. Change the call to include dim=X as an argument.\n",
      "  arged = F.softmax(y_hat.detach())[:,1]\n"
     ]
    },
    {
     "name": "stdout",
     "output_type": "stream",
     "text": [
      "\tVal {'Epoch': [24], 'AUC': [0.8284272625596094], 'PRC': [0.8161290322580645], 'Accuracy': [0.7695547533092659], 'loss': [0.4730386435985565]}\n",
      "Epoch 24\n",
      "\tTrain {'Epoch': [24], 'AUC': [0.9122112300268148], 'PRC': [0.8932955618508026], 'Accuracy': [0.854080481383979], 'loss': [0.3666791319847107]};\n"
     ]
    },
    {
     "name": "stderr",
     "output_type": "stream",
     "text": [
      "/tmp/ipykernel_380/1966578332.py:113: UserWarning: Implicit dimension choice for softmax has been deprecated. Change the call to include dim=X as an argument.\n",
      "  arged = F.softmax(y_hat.detach())[:,1]\n",
      "/tmp/ipykernel_380/1966578332.py:135: UserWarning: Implicit dimension choice for softmax has been deprecated. Change the call to include dim=X as an argument.\n",
      "  arged = F.softmax(y_hat.detach())[:,1]\n"
     ]
    },
    {
     "name": "stdout",
     "output_type": "stream",
     "text": [
      "\tVal {'Epoch': [25], 'AUC': [0.8309494776129999], 'PRC': [0.8202451202905129], 'Accuracy': [0.7812876052948255], 'loss': [0.47781962156295776]}\n",
      "Epoch 25\n",
      "\tTrain {'Epoch': [25], 'AUC': [0.9118722796385177], 'PRC': [0.9017409968995945], 'Accuracy': [0.8596464836404664], 'loss': [0.3599432110786438]};\n"
     ]
    },
    {
     "name": "stderr",
     "output_type": "stream",
     "text": [
      "/tmp/ipykernel_380/1966578332.py:113: UserWarning: Implicit dimension choice for softmax has been deprecated. Change the call to include dim=X as an argument.\n",
      "  arged = F.softmax(y_hat.detach())[:,1]\n",
      "/tmp/ipykernel_380/1966578332.py:135: UserWarning: Implicit dimension choice for softmax has been deprecated. Change the call to include dim=X as an argument.\n",
      "  arged = F.softmax(y_hat.detach())[:,1]\n"
     ]
    },
    {
     "name": "stdout",
     "output_type": "stream",
     "text": [
      "\tVal {'Epoch': [26], 'AUC': [0.8220612872032143], 'PRC': [0.8257940327237728], 'Accuracy': [0.7641395908543923], 'loss': [0.4792832136154175]}\n",
      "Epoch 26\n",
      "\tTrain {'Epoch': [26], 'AUC': [0.916339571675526], 'PRC': [0.903958856596101], 'Accuracy': [0.8609251598345242], 'loss': [0.35934311151504517]};\n"
     ]
    },
    {
     "name": "stderr",
     "output_type": "stream",
     "text": [
      "/tmp/ipykernel_380/1966578332.py:113: UserWarning: Implicit dimension choice for softmax has been deprecated. Change the call to include dim=X as an argument.\n",
      "  arged = F.softmax(y_hat.detach())[:,1]\n",
      "/tmp/ipykernel_380/1966578332.py:135: UserWarning: Implicit dimension choice for softmax has been deprecated. Change the call to include dim=X as an argument.\n",
      "  arged = F.softmax(y_hat.detach())[:,1]\n"
     ]
    },
    {
     "name": "stdout",
     "output_type": "stream",
     "text": [
      "\tVal {'Epoch': [27], 'AUC': [0.8253079661848477], 'PRC': [0.8017857142857143], 'Accuracy': [0.7635379061371841], 'loss': [0.47455689311027527]}\n",
      "Epoch 27\n",
      "\tTrain {'Epoch': [27], 'AUC': [0.9121426000370058], 'PRC': [0.899200763449839], 'Accuracy': [0.8562617525385483], 'loss': [0.36705103516578674]};\n"
     ]
    },
    {
     "name": "stderr",
     "output_type": "stream",
     "text": [
      "/tmp/ipykernel_380/1966578332.py:113: UserWarning: Implicit dimension choice for softmax has been deprecated. Change the call to include dim=X as an argument.\n",
      "  arged = F.softmax(y_hat.detach())[:,1]\n",
      "/tmp/ipykernel_380/1966578332.py:135: UserWarning: Implicit dimension choice for softmax has been deprecated. Change the call to include dim=X as an argument.\n",
      "  arged = F.softmax(y_hat.detach())[:,1]\n"
     ]
    },
    {
     "name": "stdout",
     "output_type": "stream",
     "text": [
      "\tVal {'Epoch': [28], 'AUC': [0.817099478322872], 'PRC': [0.840080971659919], 'Accuracy': [0.7611311672683514], 'loss': [0.48743078112602234]}\n",
      "Epoch 28\n",
      "\tTrain {'Epoch': [28], 'AUC': [0.92333296763707], 'PRC': [0.9071555292726198], 'Accuracy': [0.8707032719067318], 'loss': [0.35170575976371765]};\n"
     ]
    },
    {
     "name": "stderr",
     "output_type": "stream",
     "text": [
      "/tmp/ipykernel_380/1966578332.py:113: UserWarning: Implicit dimension choice for softmax has been deprecated. Change the call to include dim=X as an argument.\n",
      "  arged = F.softmax(y_hat.detach())[:,1]\n",
      "/tmp/ipykernel_380/1966578332.py:135: UserWarning: Implicit dimension choice for softmax has been deprecated. Change the call to include dim=X as an argument.\n",
      "  arged = F.softmax(y_hat.detach())[:,1]\n"
     ]
    },
    {
     "name": "stdout",
     "output_type": "stream",
     "text": [
      "\tVal {'Epoch': [29], 'AUC': [0.7684986756941367], 'PRC': [0.7427066450567261], 'Accuracy': [0.717208182912154], 'loss': [0.5557730793952942]}\n",
      "Epoch 29\n",
      "\tTrain {'Epoch': [29], 'AUC': [0.9260374847589392], 'PRC': [0.9116361488481984], 'Accuracy': [0.8770214366303122], 'loss': [0.3433271050453186]};\n"
     ]
    },
    {
     "name": "stderr",
     "output_type": "stream",
     "text": [
      "/tmp/ipykernel_380/1966578332.py:113: UserWarning: Implicit dimension choice for softmax has been deprecated. Change the call to include dim=X as an argument.\n",
      "  arged = F.softmax(y_hat.detach())[:,1]\n",
      "/tmp/ipykernel_380/1966578332.py:135: UserWarning: Implicit dimension choice for softmax has been deprecated. Change the call to include dim=X as an argument.\n",
      "  arged = F.softmax(y_hat.detach())[:,1]\n"
     ]
    },
    {
     "name": "stdout",
     "output_type": "stream",
     "text": [
      "\tVal {'Epoch': [30], 'AUC': [0.8124427172642477], 'PRC': [0.8193963384463137], 'Accuracy': [0.7451865222623345], 'loss': [0.4888979196548462]}\n",
      "Epoch 30\n",
      "\tTrain {'Epoch': [30], 'AUC': [0.9204344159429299], 'PRC': [0.9127565102604104], 'Accuracy': [0.8702519744264762], 'loss': [0.3474635183811188]};\n"
     ]
    },
    {
     "name": "stderr",
     "output_type": "stream",
     "text": [
      "/tmp/ipykernel_380/1966578332.py:113: UserWarning: Implicit dimension choice for softmax has been deprecated. Change the call to include dim=X as an argument.\n",
      "  arged = F.softmax(y_hat.detach())[:,1]\n",
      "/tmp/ipykernel_380/1966578332.py:135: UserWarning: Implicit dimension choice for softmax has been deprecated. Change the call to include dim=X as an argument.\n",
      "  arged = F.softmax(y_hat.detach())[:,1]\n"
     ]
    },
    {
     "name": "stdout",
     "output_type": "stream",
     "text": [
      "\tVal {'Epoch': [31], 'AUC': [0.8091656715311311], 'PRC': [0.8489473684210527], 'Accuracy': [0.7557160048134778], 'loss': [0.4929320812225342]}\n",
      "Epoch 31\n",
      "\tTrain {'Epoch': [31], 'AUC': [0.9198951997757062], 'PRC': [0.9139655380166285], 'Accuracy': [0.8696502444528018], 'loss': [0.3493102788925171]};\n"
     ]
    },
    {
     "name": "stderr",
     "output_type": "stream",
     "text": [
      "/tmp/ipykernel_380/1966578332.py:113: UserWarning: Implicit dimension choice for softmax has been deprecated. Change the call to include dim=X as an argument.\n",
      "  arged = F.softmax(y_hat.detach())[:,1]\n",
      "/tmp/ipykernel_380/1966578332.py:135: UserWarning: Implicit dimension choice for softmax has been deprecated. Change the call to include dim=X as an argument.\n",
      "  arged = F.softmax(y_hat.detach())[:,1]\n"
     ]
    },
    {
     "name": "stdout",
     "output_type": "stream",
     "text": [
      "\tVal {'Epoch': [32], 'AUC': [0.7986579867711389], 'PRC': [0.8269809428284854], 'Accuracy': [0.7490974729241877], 'loss': [0.5270308256149292]}\n",
      "Epoch 32\n",
      "\tTrain {'Epoch': [32], 'AUC': [0.9330619128729147], 'PRC': [0.9170818505338079], 'Accuracy': [0.8817600601729974], 'loss': [0.33809739351272583]};\n"
     ]
    },
    {
     "name": "stderr",
     "output_type": "stream",
     "text": [
      "/tmp/ipykernel_380/1966578332.py:113: UserWarning: Implicit dimension choice for softmax has been deprecated. Change the call to include dim=X as an argument.\n",
      "  arged = F.softmax(y_hat.detach())[:,1]\n",
      "/tmp/ipykernel_380/1966578332.py:135: UserWarning: Implicit dimension choice for softmax has been deprecated. Change the call to include dim=X as an argument.\n",
      "  arged = F.softmax(y_hat.detach())[:,1]\n"
     ]
    },
    {
     "name": "stdout",
     "output_type": "stream",
     "text": [
      "\tVal {'Epoch': [33], 'AUC': [0.8124632246808337], 'PRC': [0.8023203926818384], 'Accuracy': [0.7644404332129964], 'loss': [0.5366880893707275]}\n",
      "Epoch 33\n",
      "\tTrain {'Epoch': [33], 'AUC': [0.9324357199622886], 'PRC': [0.9160549372484016], 'Accuracy': [0.8814591951861602], 'loss': [0.3356795310974121]};\n"
     ]
    },
    {
     "name": "stderr",
     "output_type": "stream",
     "text": [
      "/tmp/ipykernel_380/1966578332.py:113: UserWarning: Implicit dimension choice for softmax has been deprecated. Change the call to include dim=X as an argument.\n",
      "  arged = F.softmax(y_hat.detach())[:,1]\n",
      "/tmp/ipykernel_380/1966578332.py:135: UserWarning: Implicit dimension choice for softmax has been deprecated. Change the call to include dim=X as an argument.\n",
      "  arged = F.softmax(y_hat.detach())[:,1]\n",
      "`Trainer.fit` stopped: `max_epochs=35` reached.\n"
     ]
    },
    {
     "name": "stdout",
     "output_type": "stream",
     "text": [
      "\tVal {'Epoch': [34], 'AUC': [0.7996092154020162], 'PRC': [0.833589349718382], 'Accuracy': [0.7487966305655837], 'loss': [0.5070982575416565]}\n",
      "Epoch 34\n",
      "\tTrain {'Epoch': [34], 'AUC': [0.9349196300699848], 'PRC': [0.9225393817363496], 'Accuracy': [0.8895073335840542], 'loss': [0.32863155007362366]};\n",
      "mim_base_full_5_reg\n"
     ]
    },
    {
     "name": "stderr",
     "output_type": "stream",
     "text": [
      "GPU available: True (cuda), used: True\n",
      "TPU available: False, using: 0 TPU cores\n",
      "IPU available: False, using: 0 IPUs\n",
      "HPU available: False, using: 0 HPUs\n",
      "LOCAL_RANK: 0 - CUDA_VISIBLE_DEVICES: [0]\n",
      "\n",
      "  | Name      | Type       | Params\n",
      "-----------------------------------------\n",
      "0 | model     | ResNet     | 60.2 M\n",
      "1 | regresser | Sequential | 8.4 M \n",
      "2 | layers    | Sequential | 58.1 M\n",
      "-----------------------------------------\n",
      "68.6 M    Trainable params\n",
      "0         Non-trainable params\n",
      "68.6 M    Total params\n",
      "274.375   Total estimated model params size (MB)\n"
     ]
    },
    {
     "name": "stdout",
     "output_type": "stream",
     "text": [
      "\tVal {'Epoch': [0], 'AUC': [0.707843137254902], 'PRC': [0.5], 'Accuracy': [0.53125], 'loss': [0.6884602308273315]}\n"
     ]
    },
    {
     "name": "stderr",
     "output_type": "stream",
     "text": [
      "/tmp/ipykernel_380/1966578332.py:135: UserWarning: Implicit dimension choice for softmax has been deprecated. Change the call to include dim=X as an argument.\n",
      "  arged = F.softmax(y_hat.detach())[:,1]\n",
      "/tmp/ipykernel_380/1966578332.py:113: UserWarning: Implicit dimension choice for softmax has been deprecated. Change the call to include dim=X as an argument.\n",
      "  arged = F.softmax(y_hat.detach())[:,1]\n",
      "/tmp/ipykernel_380/1966578332.py:135: UserWarning: Implicit dimension choice for softmax has been deprecated. Change the call to include dim=X as an argument.\n",
      "  arged = F.softmax(y_hat.detach())[:,1]\n"
     ]
    },
    {
     "name": "stdout",
     "output_type": "stream",
     "text": [
      "\tVal {'Epoch': [0], 'AUC': [0.8910800352464902], 'PRC': [0.7905629139072847], 'Accuracy': [0.8167330677290837], 'loss': [0.43230685591697693]}\n",
      "Epoch 0\n",
      "\tTrain {'Epoch': [0], 'AUC': [0.8549051197430388], 'PRC': [0.7671492204899777], 'Accuracy': [0.7783741906922694], 'loss': [0.4819127023220062]};\n"
     ]
    },
    {
     "name": "stderr",
     "output_type": "stream",
     "text": [
      "/tmp/ipykernel_380/1966578332.py:113: UserWarning: Implicit dimension choice for softmax has been deprecated. Change the call to include dim=X as an argument.\n",
      "  arged = F.softmax(y_hat.detach())[:,1]\n",
      "/tmp/ipykernel_380/1966578332.py:135: UserWarning: Implicit dimension choice for softmax has been deprecated. Change the call to include dim=X as an argument.\n",
      "  arged = F.softmax(y_hat.detach())[:,1]\n"
     ]
    },
    {
     "name": "stdout",
     "output_type": "stream",
     "text": [
      "\tVal {'Epoch': [1], 'AUC': [0.8816632015980082], 'PRC': [0.8410732714138287], 'Accuracy': [0.7985834440017707], 'loss': [0.4633188247680664]}\n",
      "Epoch 1\n",
      "\tTrain {'Epoch': [1], 'AUC': [0.8977654727017328], 'PRC': [0.818108605614358], 'Accuracy': [0.8188810801837197], 'loss': [0.40892645716667175]};\n"
     ]
    },
    {
     "name": "stderr",
     "output_type": "stream",
     "text": [
      "/tmp/ipykernel_380/1966578332.py:113: UserWarning: Implicit dimension choice for softmax has been deprecated. Change the call to include dim=X as an argument.\n",
      "  arged = F.softmax(y_hat.detach())[:,1]\n",
      "/tmp/ipykernel_380/1966578332.py:135: UserWarning: Implicit dimension choice for softmax has been deprecated. Change the call to include dim=X as an argument.\n",
      "  arged = F.softmax(y_hat.detach())[:,1]\n"
     ]
    },
    {
     "name": "stdout",
     "output_type": "stream",
     "text": [
      "\tVal {'Epoch': [2], 'AUC': [0.8907852692248595], 'PRC': [0.8370221327967807], 'Accuracy': [0.8025675077467906], 'loss': [0.4229121208190918]}\n",
      "Epoch 2\n",
      "\tTrain {'Epoch': [2], 'AUC': [0.9081919352443459], 'PRC': [0.827598033611524], 'Accuracy': [0.8300038736096508], 'loss': [0.38936445116996765]};\n"
     ]
    },
    {
     "name": "stderr",
     "output_type": "stream",
     "text": [
      "/tmp/ipykernel_380/1966578332.py:113: UserWarning: Implicit dimension choice for softmax has been deprecated. Change the call to include dim=X as an argument.\n",
      "  arged = F.softmax(y_hat.detach())[:,1]\n",
      "/tmp/ipykernel_380/1966578332.py:135: UserWarning: Implicit dimension choice for softmax has been deprecated. Change the call to include dim=X as an argument.\n",
      "  arged = F.softmax(y_hat.detach())[:,1]\n"
     ]
    },
    {
     "name": "stdout",
     "output_type": "stream",
     "text": [
      "\tVal {'Epoch': [3], 'AUC': [0.8911231526166756], 'PRC': [0.8100358422939068], 'Accuracy': [0.8123063302346171], 'loss': [0.42150789499282837]}\n",
      "Epoch 3\n",
      "\tTrain {'Epoch': [3], 'AUC': [0.9184421486260104], 'PRC': [0.8409222569806512], 'Accuracy': [0.8385258148414587], 'loss': [0.36934345960617065]};\n"
     ]
    },
    {
     "name": "stderr",
     "output_type": "stream",
     "text": [
      "/tmp/ipykernel_380/1966578332.py:113: UserWarning: Implicit dimension choice for softmax has been deprecated. Change the call to include dim=X as an argument.\n",
      "  arged = F.softmax(y_hat.detach())[:,1]\n",
      "/tmp/ipykernel_380/1966578332.py:135: UserWarning: Implicit dimension choice for softmax has been deprecated. Change the call to include dim=X as an argument.\n",
      "  arged = F.softmax(y_hat.detach())[:,1]\n"
     ]
    },
    {
     "name": "stdout",
     "output_type": "stream",
     "text": [
      "\tVal {'Epoch': [4], 'AUC': [0.889072333700223], 'PRC': [0.805277525022748], 'Accuracy': [0.8030101814962373], 'loss': [0.42625692486763]}\n",
      "Epoch 4\n",
      "\tTrain {'Epoch': [4], 'AUC': [0.929208497064038], 'PRC': [0.8596573574278339], 'Accuracy': [0.8520834486193348], 'loss': [0.3469720482826233]};\n"
     ]
    },
    {
     "name": "stderr",
     "output_type": "stream",
     "text": [
      "/tmp/ipykernel_380/1966578332.py:113: UserWarning: Implicit dimension choice for softmax has been deprecated. Change the call to include dim=X as an argument.\n",
      "  arged = F.softmax(y_hat.detach())[:,1]\n",
      "/tmp/ipykernel_380/1966578332.py:135: UserWarning: Implicit dimension choice for softmax has been deprecated. Change the call to include dim=X as an argument.\n",
      "  arged = F.softmax(y_hat.detach())[:,1]\n"
     ]
    },
    {
     "name": "stdout",
     "output_type": "stream",
     "text": [
      "\tVal {'Epoch': [5], 'AUC': [0.8740596493538666], 'PRC': [0.7578125], 'Accuracy': [0.798140770252324], 'loss': [0.45784834027290344]}\n",
      "Epoch 5\n",
      "\tTrain {'Epoch': [5], 'AUC': [0.9414467794089305], 'PRC': [0.8788705659034286], 'Accuracy': [0.8663051297659233], 'loss': [0.3186739683151245]};\n"
     ]
    },
    {
     "name": "stderr",
     "output_type": "stream",
     "text": [
      "/tmp/ipykernel_380/1966578332.py:113: UserWarning: Implicit dimension choice for softmax has been deprecated. Change the call to include dim=X as an argument.\n",
      "  arged = F.softmax(y_hat.detach())[:,1]\n",
      "/tmp/ipykernel_380/1966578332.py:135: UserWarning: Implicit dimension choice for softmax has been deprecated. Change the call to include dim=X as an argument.\n",
      "  arged = F.softmax(y_hat.detach())[:,1]\n"
     ]
    },
    {
     "name": "stdout",
     "output_type": "stream",
     "text": [
      "\tVal {'Epoch': [6], 'AUC': [0.8676963094666931], 'PRC': [0.8463385354141657], 'Accuracy': [0.7613988490482514], 'loss': [0.4895583689212799]}\n",
      "Epoch 6\n",
      "\tTrain {'Epoch': [6], 'AUC': [0.9503527642982385], 'PRC': [0.8928571428571429], 'Accuracy': [0.8780919705605666], 'loss': [0.2945311665534973]};\n"
     ]
    },
    {
     "name": "stderr",
     "output_type": "stream",
     "text": [
      "/tmp/ipykernel_380/1966578332.py:113: UserWarning: Implicit dimension choice for softmax has been deprecated. Change the call to include dim=X as an argument.\n",
      "  arged = F.softmax(y_hat.detach())[:,1]\n",
      "/tmp/ipykernel_380/1966578332.py:135: UserWarning: Implicit dimension choice for softmax has been deprecated. Change the call to include dim=X as an argument.\n",
      "  arged = F.softmax(y_hat.detach())[:,1]\n"
     ]
    },
    {
     "name": "stdout",
     "output_type": "stream",
     "text": [
      "\tVal {'Epoch': [7], 'AUC': [0.8768536549418777], 'PRC': [0.8357221609702316], 'Accuracy': [0.7755644090305445], 'loss': [0.46270057559013367]}\n",
      "Epoch 7\n",
      "\tTrain {'Epoch': [7], 'AUC': [0.9626581964764533], 'PRC': [0.9089195239778485], 'Accuracy': [0.8969619832881413], 'loss': [0.25700339674949646]};\n"
     ]
    },
    {
     "name": "stderr",
     "output_type": "stream",
     "text": [
      "/tmp/ipykernel_380/1966578332.py:113: UserWarning: Implicit dimension choice for softmax has been deprecated. Change the call to include dim=X as an argument.\n",
      "  arged = F.softmax(y_hat.detach())[:,1]\n",
      "/home/jmryan/.local/lib/python3.9/site-packages/pytorch_lightning/trainer/trainer.py:653: UserWarning: Detected KeyboardInterrupt, attempting graceful shutdown...\n",
      "  rank_zero_warn(\"Detected KeyboardInterrupt, attempting graceful shutdown...\")\n"
     ]
    },
    {
     "name": "stdout",
     "output_type": "stream",
     "text": [
      "hsiao_base_seg_5_reg\n"
     ]
    },
    {
     "name": "stderr",
     "output_type": "stream",
     "text": [
      "GPU available: True (cuda), used: True\n",
      "TPU available: False, using: 0 TPU cores\n",
      "IPU available: False, using: 0 IPUs\n",
      "HPU available: False, using: 0 HPUs\n",
      "LOCAL_RANK: 0 - CUDA_VISIBLE_DEVICES: [0]\n",
      "\n",
      "  | Name      | Type       | Params\n",
      "-----------------------------------------\n",
      "0 | model     | ResNet     | 60.2 M\n",
      "1 | regresser | Sequential | 8.4 M \n",
      "2 | layers    | Sequential | 58.1 M\n",
      "-----------------------------------------\n",
      "68.6 M    Trainable params\n",
      "0         Non-trainable params\n",
      "68.6 M    Total params\n",
      "274.375   Total estimated model params size (MB)\n"
     ]
    },
    {
     "name": "stdout",
     "output_type": "stream",
     "text": [
      "\tVal {'Epoch': [0], 'AUC': [0.49431818181818177], 'PRC': [0.6875], 'Accuracy': [0.6875], 'loss': [1.316581130027771]}\n"
     ]
    },
    {
     "name": "stderr",
     "output_type": "stream",
     "text": [
      "/tmp/ipykernel_380/1966578332.py:135: UserWarning: Implicit dimension choice for softmax has been deprecated. Change the call to include dim=X as an argument.\n",
      "  arged = F.softmax(y_hat.detach())[:,1]\n",
      "/tmp/ipykernel_380/1966578332.py:113: UserWarning: Implicit dimension choice for softmax has been deprecated. Change the call to include dim=X as an argument.\n",
      "  arged = F.softmax(y_hat.detach())[:,1]\n",
      "/tmp/ipykernel_380/1966578332.py:135: UserWarning: Implicit dimension choice for softmax has been deprecated. Change the call to include dim=X as an argument.\n",
      "  arged = F.softmax(y_hat.detach())[:,1]\n"
     ]
    },
    {
     "name": "stdout",
     "output_type": "stream",
     "text": [
      "\tVal {'Epoch': [0], 'AUC': [0.8244446828212526], 'PRC': [0.7496217851739788], 'Accuracy': [0.7539109506618532], 'loss': [0.4801582992076874]}\n",
      "Epoch 0\n",
      "\tTrain {'Epoch': [0], 'AUC': [0.7700722279851593], 'PRC': [0.7297979797979798], 'Accuracy': [0.7224520496427228], 'loss': [0.517494797706604]};\n"
     ]
    },
    {
     "name": "stderr",
     "output_type": "stream",
     "text": [
      "/tmp/ipykernel_380/1966578332.py:113: UserWarning: Implicit dimension choice for softmax has been deprecated. Change the call to include dim=X as an argument.\n",
      "  arged = F.softmax(y_hat.detach())[:,1]\n",
      "/tmp/ipykernel_380/1966578332.py:135: UserWarning: Implicit dimension choice for softmax has been deprecated. Change the call to include dim=X as an argument.\n",
      "  arged = F.softmax(y_hat.detach())[:,1]\n"
     ]
    },
    {
     "name": "stdout",
     "output_type": "stream",
     "text": [
      "\tVal {'Epoch': [1], 'AUC': [0.8127128630404296], 'PRC': [0.7457434733257662], 'Accuracy': [0.7475932611311673], 'loss': [0.4997597336769104]}\n",
      "Epoch 1\n",
      "\tTrain {'Epoch': [1], 'AUC': [0.8172548628435848], 'PRC': [0.7607482127117814], 'Accuracy': [0.7533659270402407], 'loss': [0.4732549488544464]};\n"
     ]
    },
    {
     "name": "stderr",
     "output_type": "stream",
     "text": [
      "/tmp/ipykernel_380/1966578332.py:113: UserWarning: Implicit dimension choice for softmax has been deprecated. Change the call to include dim=X as an argument.\n",
      "  arged = F.softmax(y_hat.detach())[:,1]\n",
      "/tmp/ipykernel_380/1966578332.py:135: UserWarning: Implicit dimension choice for softmax has been deprecated. Change the call to include dim=X as an argument.\n",
      "  arged = F.softmax(y_hat.detach())[:,1]\n"
     ]
    },
    {
     "name": "stdout",
     "output_type": "stream",
     "text": [
      "\tVal {'Epoch': [2], 'AUC': [0.8289716950326305], 'PRC': [0.7208480565371025], 'Accuracy': [0.7328519855595668], 'loss': [0.47231730818748474]}\n",
      "Epoch 2\n",
      "\tTrain {'Epoch': [2], 'AUC': [0.8304719335055178], 'PRC': [0.7725772577257726], 'Accuracy': [0.7628431741256111], 'loss': [0.46027493476867676]};\n"
     ]
    },
    {
     "name": "stderr",
     "output_type": "stream",
     "text": [
      "/tmp/ipykernel_380/1966578332.py:113: UserWarning: Implicit dimension choice for softmax has been deprecated. Change the call to include dim=X as an argument.\n",
      "  arged = F.softmax(y_hat.detach())[:,1]\n",
      "/tmp/ipykernel_380/1966578332.py:135: UserWarning: Implicit dimension choice for softmax has been deprecated. Change the call to include dim=X as an argument.\n",
      "  arged = F.softmax(y_hat.detach())[:,1]\n"
     ]
    },
    {
     "name": "stdout",
     "output_type": "stream",
     "text": [
      "\tVal {'Epoch': [3], 'AUC': [0.8404877925659037], 'PRC': [0.7357531760435572], 'Accuracy': [0.7475932611311673], 'loss': [0.4614015519618988]}\n",
      "Epoch 3\n",
      "\tTrain {'Epoch': [3], 'AUC': [0.846275834483691], 'PRC': [0.7856998177030585], 'Accuracy': [0.7772094772470853], 'loss': [0.4409267008304596]};\n"
     ]
    },
    {
     "name": "stderr",
     "output_type": "stream",
     "text": [
      "/tmp/ipykernel_380/1966578332.py:113: UserWarning: Implicit dimension choice for softmax has been deprecated. Change the call to include dim=X as an argument.\n",
      "  arged = F.softmax(y_hat.detach())[:,1]\n",
      "/tmp/ipykernel_380/1966578332.py:135: UserWarning: Implicit dimension choice for softmax has been deprecated. Change the call to include dim=X as an argument.\n",
      "  arged = F.softmax(y_hat.detach())[:,1]\n"
     ]
    },
    {
     "name": "stdout",
     "output_type": "stream",
     "text": [
      "\tVal {'Epoch': [4], 'AUC': [0.8397238912980722], 'PRC': [0.7663297045101088], 'Accuracy': [0.7689530685920578], 'loss': [0.450466126203537]}\n",
      "Epoch 4\n",
      "\tTrain {'Epoch': [4], 'AUC': [0.8540557127851279], 'PRC': [0.7883211678832117], 'Accuracy': [0.7806694245957126], 'loss': [0.4322340786457062]};\n"
     ]
    },
    {
     "name": "stderr",
     "output_type": "stream",
     "text": [
      "/tmp/ipykernel_380/1966578332.py:113: UserWarning: Implicit dimension choice for softmax has been deprecated. Change the call to include dim=X as an argument.\n",
      "  arged = F.softmax(y_hat.detach())[:,1]\n",
      "/tmp/ipykernel_380/1966578332.py:135: UserWarning: Implicit dimension choice for softmax has been deprecated. Change the call to include dim=X as an argument.\n",
      "  arged = F.softmax(y_hat.detach())[:,1]\n"
     ]
    },
    {
     "name": "stdout",
     "output_type": "stream",
     "text": [
      "\tVal {'Epoch': [5], 'AUC': [0.8269544751126725], 'PRC': [0.6913702239789197], 'Accuracy': [0.7063778580024067], 'loss': [0.5177794694900513]}\n",
      "Epoch 5\n",
      "\tTrain {'Epoch': [5], 'AUC': [0.8700621465617465], 'PRC': [0.8013930144422821], 'Accuracy': [0.7954870251974426], 'loss': [0.4124353528022766]};\n"
     ]
    },
    {
     "name": "stderr",
     "output_type": "stream",
     "text": [
      "/tmp/ipykernel_380/1966578332.py:113: UserWarning: Implicit dimension choice for softmax has been deprecated. Change the call to include dim=X as an argument.\n",
      "  arged = F.softmax(y_hat.detach())[:,1]\n",
      "/tmp/ipykernel_380/1966578332.py:135: UserWarning: Implicit dimension choice for softmax has been deprecated. Change the call to include dim=X as an argument.\n",
      "  arged = F.softmax(y_hat.detach())[:,1]\n"
     ]
    },
    {
     "name": "stdout",
     "output_type": "stream",
     "text": [
      "\tVal {'Epoch': [6], 'AUC': [0.8137114164788135], 'PRC': [0.7254545454545455], 'Accuracy': [0.7298435619735258], 'loss': [0.49052897095680237]}\n",
      "Epoch 6\n",
      "\tTrain {'Epoch': [6], 'AUC': [0.8873675081942227], 'PRC': [0.8152681257131003], 'Accuracy': [0.8100789770590447], 'loss': [0.3868379592895508]};\n"
     ]
    },
    {
     "name": "stderr",
     "output_type": "stream",
     "text": [
      "/tmp/ipykernel_380/1966578332.py:113: UserWarning: Implicit dimension choice for softmax has been deprecated. Change the call to include dim=X as an argument.\n",
      "  arged = F.softmax(y_hat.detach())[:,1]\n",
      "/tmp/ipykernel_380/1966578332.py:135: UserWarning: Implicit dimension choice for softmax has been deprecated. Change the call to include dim=X as an argument.\n",
      "  arged = F.softmax(y_hat.detach())[:,1]\n"
     ]
    },
    {
     "name": "stdout",
     "output_type": "stream",
     "text": [
      "\tVal {'Epoch': [7], 'AUC': [0.8046794769662275], 'PRC': [0.7650753768844221], 'Accuracy': [0.7376654632972323], 'loss': [0.5214261412620544]}\n",
      "Epoch 7\n",
      "\tTrain {'Epoch': [7], 'AUC': [0.9088913224042676], 'PRC': [0.8386513507764305], 'Accuracy': [0.8318164723580294], 'loss': [0.35401931405067444]};\n"
     ]
    },
    {
     "name": "stderr",
     "output_type": "stream",
     "text": [
      "/tmp/ipykernel_380/1966578332.py:113: UserWarning: Implicit dimension choice for softmax has been deprecated. Change the call to include dim=X as an argument.\n",
      "  arged = F.softmax(y_hat.detach())[:,1]\n",
      "/tmp/ipykernel_380/1966578332.py:135: UserWarning: Implicit dimension choice for softmax has been deprecated. Change the call to include dim=X as an argument.\n",
      "  arged = F.softmax(y_hat.detach())[:,1]\n"
     ]
    },
    {
     "name": "stdout",
     "output_type": "stream",
     "text": [
      "\tVal {'Epoch': [8], 'AUC': [0.8080229746165508], 'PRC': [0.7427689934438874], 'Accuracy': [0.7355595667870036], 'loss': [0.48790115118026733]}\n",
      "Epoch 8\n",
      "\tTrain {'Epoch': [8], 'AUC': [0.9272105620612823], 'PRC': [0.858109559613319], 'Accuracy': [0.8543813463708161], 'loss': [0.3221897780895233]};\n"
     ]
    },
    {
     "name": "stderr",
     "output_type": "stream",
     "text": [
      "/tmp/ipykernel_380/1966578332.py:113: UserWarning: Implicit dimension choice for softmax has been deprecated. Change the call to include dim=X as an argument.\n",
      "  arged = F.softmax(y_hat.detach())[:,1]\n",
      "/tmp/ipykernel_380/1966578332.py:135: UserWarning: Implicit dimension choice for softmax has been deprecated. Change the call to include dim=X as an argument.\n",
      "  arged = F.softmax(y_hat.detach())[:,1]\n"
     ]
    },
    {
     "name": "stdout",
     "output_type": "stream",
     "text": [
      "\tVal {'Epoch': [9], 'AUC': [0.8089637523524373], 'PRC': [0.7498045347928068], 'Accuracy': [0.7412755716004813], 'loss': [0.5192162990570068]}\n",
      "Epoch 9\n",
      "\tTrain {'Epoch': [9], 'AUC': [0.9406220265499451], 'PRC': [0.8758403816959445], 'Accuracy': [0.8742384355020685], 'loss': [0.2925333082675934]};\n"
     ]
    },
    {
     "name": "stderr",
     "output_type": "stream",
     "text": [
      "/tmp/ipykernel_380/1966578332.py:113: UserWarning: Implicit dimension choice for softmax has been deprecated. Change the call to include dim=X as an argument.\n",
      "  arged = F.softmax(y_hat.detach())[:,1]\n",
      "/home/jmryan/.local/lib/python3.9/site-packages/pytorch_lightning/trainer/trainer.py:653: UserWarning: Detected KeyboardInterrupt, attempting graceful shutdown...\n",
      "  rank_zero_warn(\"Detected KeyboardInterrupt, attempting graceful shutdown...\")\n"
     ]
    },
    {
     "name": "stdout",
     "output_type": "stream",
     "text": [
      "mim_base_seg_5_reg\n"
     ]
    },
    {
     "name": "stderr",
     "output_type": "stream",
     "text": [
      "GPU available: True (cuda), used: True\n",
      "TPU available: False, using: 0 TPU cores\n",
      "IPU available: False, using: 0 IPUs\n",
      "HPU available: False, using: 0 HPUs\n",
      "LOCAL_RANK: 0 - CUDA_VISIBLE_DEVICES: [0]\n",
      "\n",
      "  | Name      | Type       | Params\n",
      "-----------------------------------------\n",
      "0 | model     | ResNet     | 60.2 M\n",
      "1 | regresser | Sequential | 8.4 M \n",
      "2 | layers    | Sequential | 58.1 M\n",
      "-----------------------------------------\n",
      "68.6 M    Trainable params\n",
      "0         Non-trainable params\n",
      "68.6 M    Total params\n",
      "274.375   Total estimated model params size (MB)\n"
     ]
    },
    {
     "name": "stdout",
     "output_type": "stream",
     "text": [
      "\tVal {'Epoch': [0], 'AUC': [0.2392156862745098], 'PRC': [0.13333333333333333], 'Accuracy': [0.359375], 'loss': [0.7725465297698975]}\n"
     ]
    },
    {
     "name": "stderr",
     "output_type": "stream",
     "text": [
      "/tmp/ipykernel_380/1966578332.py:135: UserWarning: Implicit dimension choice for softmax has been deprecated. Change the call to include dim=X as an argument.\n",
      "  arged = F.softmax(y_hat.detach())[:,1]\n",
      "/tmp/ipykernel_380/1966578332.py:113: UserWarning: Implicit dimension choice for softmax has been deprecated. Change the call to include dim=X as an argument.\n",
      "  arged = F.softmax(y_hat.detach())[:,1]\n",
      "/tmp/ipykernel_380/1966578332.py:135: UserWarning: Implicit dimension choice for softmax has been deprecated. Change the call to include dim=X as an argument.\n",
      "  arged = F.softmax(y_hat.detach())[:,1]\n"
     ]
    },
    {
     "name": "stdout",
     "output_type": "stream",
     "text": [
      "\tVal {'Epoch': [0], 'AUC': [0.8897261498226701], 'PRC': [0.8334919124643198], 'Accuracy': [0.816290393979637], 'loss': [0.4338543117046356]}\n",
      "Epoch 0\n",
      "\tTrain {'Epoch': [0], 'AUC': [0.8730629874629294], 'PRC': [0.7735259243289857], 'Accuracy': [0.7937026174533783], 'loss': [0.45156756043434143]};\n"
     ]
    },
    {
     "name": "stderr",
     "output_type": "stream",
     "text": [
      "/tmp/ipykernel_380/1966578332.py:113: UserWarning: Implicit dimension choice for softmax has been deprecated. Change the call to include dim=X as an argument.\n",
      "  arged = F.softmax(y_hat.detach())[:,1]\n",
      "/tmp/ipykernel_380/1966578332.py:135: UserWarning: Implicit dimension choice for softmax has been deprecated. Change the call to include dim=X as an argument.\n",
      "  arged = F.softmax(y_hat.detach())[:,1]\n"
     ]
    },
    {
     "name": "stdout",
     "output_type": "stream",
     "text": [
      "\tVal {'Epoch': [1], 'AUC': [0.8874009476414015], 'PRC': [0.7554388597149287], 'Accuracy': [0.8074369189907038], 'loss': [0.4385293424129486]}\n",
      "Epoch 1\n",
      "\tTrain {'Epoch': [1], 'AUC': [0.895407525027148], 'PRC': [0.8003506465044926], 'Accuracy': [0.8162248907088706], 'loss': [0.4126812815666199]};\n"
     ]
    },
    {
     "name": "stderr",
     "output_type": "stream",
     "text": [
      "/tmp/ipykernel_380/1966578332.py:113: UserWarning: Implicit dimension choice for softmax has been deprecated. Change the call to include dim=X as an argument.\n",
      "  arged = F.softmax(y_hat.detach())[:,1]\n",
      "Exception ignored in: <function _MultiProcessingDataLoaderIter.__del__ at 0x7fcafd7b19d0>\n",
      "Traceback (most recent call last):\n",
      "  File \"/home/jmryan/.local/lib/python3.9/site-packages/torch/utils/data/dataloader.py\", line 1510, in __del__\n",
      "    self._shutdown_workers()\n",
      "  File \"/home/jmryan/.local/lib/python3.9/site-packages/torch/utils/data/dataloader.py\", line 1493, in _shutdown_workers\n",
      "    if w.is_alive():\n",
      "  File \"/opt/conda/lib/python3.9/multiprocessing/process.py\", line 160, in is_alive\n",
      "    assert self._parent_pid == os.getpid(), 'can only test a child process'\n",
      "AssertionError: can only test a child process\n",
      "Exception ignored in: <function _MultiProcessingDataLoaderIter.__del__ at 0x7fcafd7b19d0>\n",
      "Traceback (most recent call last):\n",
      "  File \"/home/jmryan/.local/lib/python3.9/site-packages/torch/utils/data/dataloader.py\", line 1510, in __del__\n",
      "    self._shutdown_workers()\n",
      "  File \"/home/jmryan/.local/lib/python3.9/site-packages/torch/utils/data/dataloader.py\", line 1493, in _shutdown_workers\n",
      "    if w.is_alive():\n",
      "  File \"/opt/conda/lib/python3.9/multiprocessing/process.py\", line 160, in is_alive\n",
      "    assert self._parent_pid == os.getpid(), 'can only test a child process'\n",
      "AssertionError: can only test a child process\n",
      "Exception ignored in: <function _MultiProcessingDataLoaderIter.__del__ at 0x7fcafd7b19d0>\n",
      "Traceback (most recent call last):\n",
      "  File \"/home/jmryan/.local/lib/python3.9/site-packages/torch/utils/data/dataloader.py\", line 1510, in __del__\n",
      "    self._shutdown_workers()\n",
      "  File \"/home/jmryan/.local/lib/python3.9/site-packages/torch/utils/data/dataloader.py\", line 1493, in _shutdown_workers\n",
      "    if w.is_alive():\n",
      "  File \"/opt/conda/lib/python3.9/multiprocessing/process.py\", line 160, in is_alive\n",
      "    assert self._parent_pid == os.getpid(), 'can only test a child process'\n",
      "AssertionError: can only test a child process\n",
      "Exception ignored in: <function _MultiProcessingDataLoaderIter.__del__ at 0x7fcafd7b19d0>\n",
      "Traceback (most recent call last):\n",
      "  File \"/home/jmryan/.local/lib/python3.9/site-packages/torch/utils/data/dataloader.py\", line 1510, in __del__\n",
      "    self._shutdown_workers()\n",
      "  File \"/home/jmryan/.local/lib/python3.9/site-packages/torch/utils/data/dataloader.py\", line 1493, in _shutdown_workers\n",
      "    if w.is_alive():\n",
      "  File \"/opt/conda/lib/python3.9/multiprocessing/process.py\", line 160, in is_alive\n",
      "    assert self._parent_pid == os.getpid(), 'can only test a child process'\n",
      "AssertionError: can only test a child process\n",
      "Exception ignored in: <function _MultiProcessingDataLoaderIter.__del__ at 0x7fcafd7b19d0>\n",
      "Traceback (most recent call last):\n",
      "  File \"/home/jmryan/.local/lib/python3.9/site-packages/torch/utils/data/dataloader.py\", line 1510, in __del__\n",
      "    self._shutdown_workers()\n",
      "  File \"/home/jmryan/.local/lib/python3.9/site-packages/torch/utils/data/dataloader.py\", line 1493, in _shutdown_workers\n",
      "    if w.is_alive():\n",
      "  File \"/opt/conda/lib/python3.9/multiprocessing/process.py\", line 160, in is_alive\n",
      "    assert self._parent_pid == os.getpid(), 'can only test a child process'\n",
      "AssertionError: can only test a child process\n",
      "Exception ignored in: <function _MultiProcessingDataLoaderIter.__del__ at 0x7fcafd7b19d0>\n",
      "Traceback (most recent call last):\n",
      "  File \"/home/jmryan/.local/lib/python3.9/site-packages/torch/utils/data/dataloader.py\", line 1510, in __del__\n",
      "    self._shutdown_workers()\n",
      "  File \"/home/jmryan/.local/lib/python3.9/site-packages/torch/utils/data/dataloader.py\", line 1493, in _shutdown_workers\n",
      "    if w.is_alive():\n",
      "  File \"/opt/conda/lib/python3.9/multiprocessing/process.py\", line 160, in is_alive\n",
      "    assert self._parent_pid == os.getpid(), 'can only test a child process'\n",
      "AssertionError: can only test a child process\n",
      "Exception ignored in: <function _MultiProcessingDataLoaderIter.__del__ at 0x7fcafd7b19d0>\n",
      "Traceback (most recent call last):\n",
      "  File \"/home/jmryan/.local/lib/python3.9/site-packages/torch/utils/data/dataloader.py\", line 1510, in __del__\n",
      "    self._shutdown_workers()\n",
      "  File \"/home/jmryan/.local/lib/python3.9/site-packages/torch/utils/data/dataloader.py\", line 1493, in _shutdown_workers\n",
      "    if w.is_alive():\n",
      "  File \"/opt/conda/lib/python3.9/multiprocessing/process.py\", line 160, in is_alive\n",
      "    assert self._parent_pid == os.getpid(), 'can only test a child process'\n",
      "AssertionError: can only test a child process\n",
      "Exception ignored in: <function _MultiProcessingDataLoaderIter.__del__ at 0x7fcafd7b19d0>\n",
      "Traceback (most recent call last):\n",
      "  File \"/home/jmryan/.local/lib/python3.9/site-packages/torch/utils/data/dataloader.py\", line 1510, in __del__\n",
      "    self._shutdown_workers()\n",
      "  File \"/home/jmryan/.local/lib/python3.9/site-packages/torch/utils/data/dataloader.py\", line 1493, in _shutdown_workers\n",
      "    if w.is_alive():\n",
      "  File \"/opt/conda/lib/python3.9/multiprocessing/process.py\", line 160, in is_alive\n",
      "    assert self._parent_pid == os.getpid(), 'can only test a child process'\n",
      "AssertionError: can only test a child process\n",
      "Exception ignored in: <function _MultiProcessingDataLoaderIter.__del__ at 0x7fcafd7b19d0>\n",
      "Traceback (most recent call last):\n",
      "  File \"/home/jmryan/.local/lib/python3.9/site-packages/torch/utils/data/dataloader.py\", line 1510, in __del__\n",
      "    self._shutdown_workers()\n",
      "  File \"/home/jmryan/.local/lib/python3.9/site-packages/torch/utils/data/dataloader.py\", line 1493, in _shutdown_workers\n",
      "    if w.is_alive():\n",
      "  File \"/opt/conda/lib/python3.9/multiprocessing/process.py\", line 160, in is_alive\n",
      "    assert self._parent_pid == os.getpid(), 'can only test a child process'\n",
      "AssertionError: can only test a child process\n",
      "Exception ignored in: <function _MultiProcessingDataLoaderIter.__del__ at 0x7fcafd7b19d0>\n",
      "Traceback (most recent call last):\n",
      "  File \"/home/jmryan/.local/lib/python3.9/site-packages/torch/utils/data/dataloader.py\", line 1510, in __del__\n",
      "    self._shutdown_workers()\n",
      "  File \"/home/jmryan/.local/lib/python3.9/site-packages/torch/utils/data/dataloader.py\", line 1493, in _shutdown_workers\n",
      "    if w.is_alive():\n",
      "  File \"/opt/conda/lib/python3.9/multiprocessing/process.py\", line 160, in is_alive\n",
      "    assert self._parent_pid == os.getpid(), 'can only test a child process'\n",
      "AssertionError: can only test a child process\n",
      "Exception ignored in: <function _MultiProcessingDataLoaderIter.__del__ at 0x7fcafd7b19d0>\n",
      "Traceback (most recent call last):\n",
      "  File \"/home/jmryan/.local/lib/python3.9/site-packages/torch/utils/data/dataloader.py\", line 1510, in __del__\n",
      "    self._shutdown_workers()\n",
      "  File \"/home/jmryan/.local/lib/python3.9/site-packages/torch/utils/data/dataloader.py\", line 1493, in _shutdown_workers\n",
      "    if w.is_alive():\n",
      "  File \"/opt/conda/lib/python3.9/multiprocessing/process.py\", line 160, in is_alive\n",
      "    assert self._parent_pid == os.getpid(), 'can only test a child process'\n",
      "AssertionError: can only test a child process\n",
      "Exception ignored in: <function _MultiProcessingDataLoaderIter.__del__ at 0x7fcafd7b19d0>\n",
      "Traceback (most recent call last):\n",
      "  File \"/home/jmryan/.local/lib/python3.9/site-packages/torch/utils/data/dataloader.py\", line 1510, in __del__\n",
      "    self._shutdown_workers()\n",
      "  File \"/home/jmryan/.local/lib/python3.9/site-packages/torch/utils/data/dataloader.py\", line 1493, in _shutdown_workers\n",
      "    if w.is_alive():\n",
      "  File \"/opt/conda/lib/python3.9/multiprocessing/process.py\", line 160, in is_alive\n",
      "    assert self._parent_pid == os.getpid(), 'can only test a child process'\n",
      "AssertionError: can only test a child process\n",
      "Exception ignored in: <function _MultiProcessingDataLoaderIter.__del__ at 0x7fcafd7b19d0>\n",
      "Traceback (most recent call last):\n",
      "  File \"/home/jmryan/.local/lib/python3.9/site-packages/torch/utils/data/dataloader.py\", line 1510, in __del__\n",
      "    self._shutdown_workers()\n",
      "  File \"/home/jmryan/.local/lib/python3.9/site-packages/torch/utils/data/dataloader.py\", line 1493, in _shutdown_workers\n",
      "    if w.is_alive():\n",
      "  File \"/opt/conda/lib/python3.9/multiprocessing/process.py\", line 160, in is_alive\n",
      "    assert self._parent_pid == os.getpid(), 'can only test a child process'\n",
      "AssertionError: can only test a child process\n",
      "Exception ignored in: <function _MultiProcessingDataLoaderIter.__del__ at 0x7fcafd7b19d0>\n",
      "Traceback (most recent call last):\n",
      "  File \"/home/jmryan/.local/lib/python3.9/site-packages/torch/utils/data/dataloader.py\", line 1510, in __del__\n",
      "    self._shutdown_workers()\n",
      "  File \"/home/jmryan/.local/lib/python3.9/site-packages/torch/utils/data/dataloader.py\", line 1493, in _shutdown_workers\n",
      "    if w.is_alive():\n",
      "  File \"/opt/conda/lib/python3.9/multiprocessing/process.py\", line 160, in is_alive\n",
      "    assert self._parent_pid == os.getpid(), 'can only test a child process'\n",
      "AssertionError: can only test a child process\n",
      "/tmp/ipykernel_380/1966578332.py:135: UserWarning: Implicit dimension choice for softmax has been deprecated. Change the call to include dim=X as an argument.\n",
      "  arged = F.softmax(y_hat.detach())[:,1]\n"
     ]
    },
    {
     "name": "stdout",
     "output_type": "stream",
     "text": [
      "\tVal {'Epoch': [2], 'AUC': [0.889780242523448], 'PRC': [0.7969283276450512], 'Accuracy': [0.8140770252324038], 'loss': [0.42965683341026306]}\n",
      "Epoch 2\n",
      "\tTrain {'Epoch': [2], 'AUC': [0.9033051899313761], 'PRC': [0.807092665788318], 'Accuracy': [0.8224226661501853], 'loss': [0.39860889315605164]};\n"
     ]
    },
    {
     "name": "stderr",
     "output_type": "stream",
     "text": [
      "/tmp/ipykernel_380/1966578332.py:113: UserWarning: Implicit dimension choice for softmax has been deprecated. Change the call to include dim=X as an argument.\n",
      "  arged = F.softmax(y_hat.detach())[:,1]\n",
      "/tmp/ipykernel_380/1966578332.py:135: UserWarning: Implicit dimension choice for softmax has been deprecated. Change the call to include dim=X as an argument.\n",
      "  arged = F.softmax(y_hat.detach())[:,1]\n"
     ]
    },
    {
     "name": "stdout",
     "output_type": "stream",
     "text": [
      "\tVal {'Epoch': [3], 'AUC': [0.8880618193335152], 'PRC': [0.7629343629343629], 'Accuracy': [0.8074369189907038], 'loss': [0.44513699412345886]}\n",
      "Epoch 3\n",
      "\tTrain {'Epoch': [3], 'AUC': [0.912341815780521], 'PRC': [0.8183518538893167], 'Accuracy': [0.8331027613303083], 'loss': [0.3824298083782196]};\n"
     ]
    },
    {
     "name": "stderr",
     "output_type": "stream",
     "text": [
      "/tmp/ipykernel_380/1966578332.py:113: UserWarning: Implicit dimension choice for softmax has been deprecated. Change the call to include dim=X as an argument.\n",
      "  arged = F.softmax(y_hat.detach())[:,1]\n",
      "/tmp/ipykernel_380/1966578332.py:135: UserWarning: Implicit dimension choice for softmax has been deprecated. Change the call to include dim=X as an argument.\n",
      "  arged = F.softmax(y_hat.detach())[:,1]\n"
     ]
    },
    {
     "name": "stdout",
     "output_type": "stream",
     "text": [
      "\tVal {'Epoch': [4], 'AUC': [0.8902553175476722], 'PRC': [0.8052721088435374], 'Accuracy': [0.8238158477202302], 'loss': [0.4402158558368683]}\n",
      "Epoch 4\n",
      "\tTrain {'Epoch': [4], 'AUC': [0.9191729829714836], 'PRC': [0.8252104563579974], 'Accuracy': [0.8378064301920204], 'loss': [0.3707605302333832]};\n"
     ]
    },
    {
     "name": "stderr",
     "output_type": "stream",
     "text": [
      "/tmp/ipykernel_380/1966578332.py:113: UserWarning: Implicit dimension choice for softmax has been deprecated. Change the call to include dim=X as an argument.\n",
      "  arged = F.softmax(y_hat.detach())[:,1]\n",
      "/tmp/ipykernel_380/1966578332.py:135: UserWarning: Implicit dimension choice for softmax has been deprecated. Change the call to include dim=X as an argument.\n",
      "  arged = F.softmax(y_hat.detach())[:,1]\n"
     ]
    },
    {
     "name": "stdout",
     "output_type": "stream",
     "text": [
      "\tVal {'Epoch': [5], 'AUC': [0.8764577590883578], 'PRC': [0.7782462057335582], 'Accuracy': [0.798140770252324], 'loss': [0.4402843713760376]}\n",
      "Epoch 5\n",
      "\tTrain {'Epoch': [5], 'AUC': [0.9316752498988677], 'PRC': [0.8476880222841225], 'Accuracy': [0.8582258867799236], 'loss': [0.3432949483394623]};\n"
     ]
    },
    {
     "name": "stderr",
     "output_type": "stream",
     "text": [
      "/tmp/ipykernel_380/1966578332.py:113: UserWarning: Implicit dimension choice for softmax has been deprecated. Change the call to include dim=X as an argument.\n",
      "  arged = F.softmax(y_hat.detach())[:,1]\n",
      "/home/jmryan/.local/lib/python3.9/site-packages/pytorch_lightning/trainer/trainer.py:653: UserWarning: Detected KeyboardInterrupt, attempting graceful shutdown...\n",
      "  rank_zero_warn(\"Detected KeyboardInterrupt, attempting graceful shutdown...\")\n"
     ]
    }
   ],
   "source": [
    "final_lin = [[2048, 4096], [4096, 2]]\n",
    "titles = ['hsiao_base_full_9_reg', 'mim_base_full_5_reg', 'hsiao_base_seg_5_reg', 'mim_base_seg_5_reg']\n",
    "train_vals = [[hsiao_full_train_dl, hsiao_full_val_dl], [mim_full_train_dl, mim_full_val_dl],\n",
    "              [hsiao_seg_train_dl, hsiao_seg_val_dl], [mim_seg_train_dl, mim_seg_val_dl]]\n",
    "\n",
    "for i in range(4):\n",
    "    print(titles[i])\n",
    "    net = ClassyNet(title= titles[i], layer_defs=None, linear_layers = final_lin, is_transfer=True, \n",
    "       model = model, lr_scheduler=True, lr = 1e-5, print_on = True)\n",
    "    #net.load_state_dict(torch.load(f'models/{titles[i]}'))\n",
    "    trainer = pl.Trainer(\n",
    "        accelerator='gpu',\n",
    "        max_epochs=35, \n",
    "        enable_progress_bar=False,\n",
    "        check_val_every_n_epoch = 1,\n",
    "        #callbacks=[early_stop_callback],\n",
    "        logger=False,\n",
    "        enable_checkpointing=False)\n",
    "    net.train()\n",
    "    trainer.fit(net, train_vals[i][0], train_vals[i][1])\n",
    "    torch.save(net.state_dict(), f'models/{titles[i]}')"
   ]
  },
  {
   "cell_type": "markdown",
   "id": "71579e77",
   "metadata": {},
   "source": [
    "# Testing"
   ]
  },
  {
   "cell_type": "code",
   "execution_count": 9,
   "id": "e9890bdd",
   "metadata": {},
   "outputs": [],
   "source": [
    "final_model_paths = ['hsiao_base_full_9_reg', 'mim_base_seg_5_reg','hsiao_base_seg_5_reg', 'mim_base_full_5_reg']"
   ]
  },
  {
   "cell_type": "code",
   "execution_count": 10,
   "id": "220f5f63",
   "metadata": {},
   "outputs": [],
   "source": [
    "final_lin = [[2048, 4096], [4096, 2]]"
   ]
  },
  {
   "cell_type": "code",
   "execution_count": null,
   "id": "27c60b44",
   "metadata": {},
   "outputs": [],
   "source": [
    "#mim_full_test_dataset, mim_seg_test_dataset"
   ]
  },
  {
   "cell_type": "code",
   "execution_count": 94,
   "id": "0fa82f35",
   "metadata": {},
   "outputs": [
    {
     "data": {
      "text/plain": [
       "<All keys matched successfully>"
      ]
     },
     "execution_count": 94,
     "metadata": {},
     "output_type": "execute_result"
    }
   ],
   "source": [
    "best_model = ClassyNet(title= 'best_model', layer_defs=None, linear_layers = final_lin, is_transfer=True, \n",
    "       model = model, lr_scheduler=True, lr = 1e-5, print_on = True)\n",
    "best_model.to('cuda')\n",
    "best_model.load_state_dict(torch.load(f'models/mim_base_seg_5_reg'))"
   ]
  },
  {
   "cell_type": "markdown",
   "id": "247ad0d9",
   "metadata": {},
   "source": [
    "#### Get Test Probs"
   ]
  },
  {
   "cell_type": "code",
   "execution_count": 33,
   "id": "597fb0ee",
   "metadata": {
    "scrolled": true
   },
   "outputs": [
    {
     "name": "stdout",
     "output_type": "stream",
     "text": [
      "hsiao_base_full_9_reg_eval\n"
     ]
    },
    {
     "name": "stderr",
     "output_type": "stream",
     "text": [
      "/tmp/ipykernel_174846/1525397281.py:19: UserWarning: Implicit dimension choice for softmax has been deprecated. Change the call to include dim=X as an argument.\n",
      "  probs.append(F.softmax(net(test[i][0].view((1,3,224,224)).to('cuda')).detach())[:,1].item())\n"
     ]
    },
    {
     "name": "stdout",
     "output_type": "stream",
     "text": [
      "0\n",
      "100\n",
      "200\n",
      "300\n",
      "400\n",
      "500\n",
      "600\n",
      "700\n",
      "800\n",
      "900\n",
      "1000\n",
      "1100\n",
      "1200\n",
      "1300\n",
      "1400\n",
      "1500\n",
      "1600\n",
      "1700\n",
      "1800\n",
      "1900\n",
      "2000\n",
      "2100\n",
      "2200\n",
      "mim_base_seg_5_reg_eval\n",
      "0\n",
      "100\n",
      "200\n",
      "300\n",
      "400\n",
      "500\n",
      "600\n",
      "700\n",
      "800\n",
      "900\n",
      "1000\n",
      "1100\n",
      "1200\n",
      "1300\n",
      "1400\n",
      "1500\n",
      "1600\n",
      "1700\n",
      "1800\n",
      "1900\n",
      "2000\n",
      "2100\n",
      "2200\n",
      "hsiao_base_seg_5_reg_eval\n",
      "0\n",
      "100\n",
      "200\n",
      "300\n",
      "400\n",
      "500\n",
      "600\n",
      "700\n",
      "800\n",
      "900\n",
      "1000\n",
      "1100\n",
      "1200\n",
      "1300\n",
      "1400\n",
      "1500\n",
      "1600\n",
      "1700\n",
      "1800\n",
      "1900\n",
      "2000\n",
      "2100\n",
      "2200\n",
      "mim_base_full_5_reg_eval\n",
      "0\n",
      "100\n",
      "200\n",
      "300\n",
      "400\n",
      "500\n",
      "600\n",
      "700\n",
      "800\n",
      "900\n",
      "1000\n",
      "1100\n",
      "1200\n",
      "1300\n",
      "1400\n",
      "1500\n",
      "1600\n",
      "1700\n",
      "1800\n",
      "1900\n",
      "2000\n",
      "2100\n",
      "2200\n"
     ]
    }
   ],
   "source": [
    "all_probs = []\n",
    "all_grounds = []\n",
    "for each in final_model_paths:\n",
    "    title = each + '_eval'\n",
    "    print(title)\n",
    "    net = ClassyNet(title= title, layer_defs=None, linear_layers = final_lin, is_transfer=True, \n",
    "       model = model, lr_scheduler=True, lr = 1e-5, print_on = True)\n",
    "    net.to('cuda')\n",
    "    net.load_state_dict(torch.load(f'models/{each}'))\n",
    "    net.eval()\n",
    "    if 'seg' in title:\n",
    "        test = mim_seg_test_dataset\n",
    "    else:\n",
    "        test = mim_full_test_dataset\n",
    "    probs = []\n",
    "    grounds = []\n",
    "    for i in range(len(test)):\n",
    "        grounds.append(test[i][1])\n",
    "        probs.append(F.softmax(net(test[i][0].view((1,3,224,224)).to('cuda')).detach())[:,1].item())\n",
    "        if i % 100 == 0:\n",
    "            print(i)\n",
    "    np.array(probs).tofile(f'{title}.csv', sep = ',')\n",
    "    np.array(grounds).tofile(f'{each}_grounds.csv', sep = ',')\n",
    "#     for i in grounds:\n",
    "#         print(i)"
   ]
  },
  {
   "cell_type": "markdown",
   "id": "d20c0def",
   "metadata": {},
   "source": [
    "#### Analyze Results"
   ]
  },
  {
   "cell_type": "code",
   "execution_count": 10,
   "id": "ba346067",
   "metadata": {},
   "outputs": [],
   "source": [
    "hsiao_full = np.loadtxt('models/' + final_model_paths[0] + '_eval.csv',\n",
    "                 delimiter=\",\", dtype=float)\n",
    "mim_seg = np.loadtxt('models/' + final_model_paths[1] + '_eval.csv',\n",
    "                 delimiter=\",\", dtype=float)\n",
    "hsiao_seg = np.loadtxt('models/' + final_model_paths[2] + '_eval.csv',\n",
    "                 delimiter=\",\", dtype=float)\n",
    "mim_full = np.loadtxt('models/' + final_model_paths[3] + '_eval.csv',\n",
    "                 delimiter=\",\", dtype=float)\n",
    "full_ground = np.loadtxt('models/' + final_model_paths[3] + '_grounds.csv',\n",
    "                 delimiter=\",\", dtype=float)\n",
    "\n",
    "seg_ground = np.loadtxt('models/' + final_model_paths[2] + '_grounds.csv',\n",
    "                 delimiter=\",\", dtype=float)"
   ]
  },
  {
   "cell_type": "code",
   "execution_count": 12,
   "id": "00e43a89",
   "metadata": {},
   "outputs": [],
   "source": [
    "hsiao_full_auc = roc_auc_score(full_ground, hsiao_full)\n",
    "hsiao_full_prc = precision_score(full_ground, (hsiao_full > 0.5).astype(int), zero_division=0)\n",
    "hsiao_full_acc = accuracy_score(full_ground, (hsiao_full > 0.5).astype(int))\n",
    "\n",
    "mim_seg_auc = roc_auc_score(seg_ground, mim_seg)\n",
    "mim_seg_prc = precision_score(seg_ground, (mim_seg > 0.5).astype(int), zero_division=0)\n",
    "mim_seg_acc = accuracy_score(seg_ground, (mim_seg > 0.5).astype(int))\n",
    "\n",
    "hsiao_seg_auc = roc_auc_score(seg_ground, hsiao_seg)\n",
    "hsiao_seg_prc = precision_score(seg_ground, (hsiao_seg > 0.5).astype(int), zero_division=0)\n",
    "hsiao_seg_acc = accuracy_score(seg_ground, (hsiao_seg > 0.5).astype(int))\n",
    "\n",
    "mim_full_auc = roc_auc_score(full_ground, mim_full)\n",
    "mim_full_prc = precision_score(full_ground, (mim_full > 0.5).astype(int), zero_division=0)\n",
    "mim_full_acc = accuracy_score(full_ground, (mim_full > 0.5).astype(int))"
   ]
  },
  {
   "cell_type": "markdown",
   "id": "66b59904",
   "metadata": {},
   "source": [
    "#### Get XRAI Examples"
   ]
  },
  {
   "cell_type": "code",
   "execution_count": 5,
   "id": "85c66ca5",
   "metadata": {},
   "outputs": [],
   "source": [
    "import PIL.Image\n",
    "from matplotlib import pylab as P\n",
    "import torch\n",
    "from torchvision import models, transforms"
   ]
  },
  {
   "cell_type": "code",
   "execution_count": 6,
   "id": "061f169d",
   "metadata": {},
   "outputs": [],
   "source": [
    "def ShowImage(im, title='', ax=None):\n",
    "    if ax is None:\n",
    "        P.figure()\n",
    "    P.axis('off')\n",
    "    P.imshow(im)\n",
    "    P.title(title)\n",
    "\n",
    "def ShowGrayscaleImage(im, title='', ax=None):\n",
    "    if ax is None:\n",
    "        P.figure()\n",
    "    P.axis('off')\n",
    "    P.imshow(im, cmap=P.cm.gray, vmin=0, vmax=1)\n",
    "    P.title(title)\n",
    "\n",
    "def ShowHeatMap(im, title, ax=None):\n",
    "    if ax is None:\n",
    "        P.figure()\n",
    "    P.axis('off')\n",
    "    P.imshow(im, cmap='inferno')\n",
    "    P.title(title)\n",
    "\n",
    "def LoadImage(file_path):\n",
    "    im = PIL.Image.open(file_path)\n",
    "    im = im.resize((299, 299))\n",
    "    im = np.asarray(im)\n",
    "    return im\n",
    "\n",
    "transformer = transforms.Normalize((0.485, 0.456, 0.406), (0.229, 0.224, 0.225))\n",
    "def PreprocessImages(images):\n",
    "    # assumes input is 4-D, with range [0,255]\n",
    "    #\n",
    "    # torchvision have color channel as first dimension\n",
    "    # with normalization relative to mean/std of ImageNet:\n",
    "    #    https://pytorch.org/vision/stable/models.html\n",
    "    images = np.array(images)\n",
    "    images = images/255\n",
    "    images = np.transpose(images, (0,3,1,2))\n",
    "    images = torch.tensor(images, dtype=torch.float32)\n",
    "    images = transformer.forward(images)\n",
    "    return images.requires_grad_(True)"
   ]
  },
  {
   "cell_type": "code",
   "execution_count": 98,
   "id": "9fd654f9",
   "metadata": {},
   "outputs": [
    {
     "name": "stdout",
     "output_type": "stream",
     "text": [
      "0.9282153844833374 1.0\n"
     ]
    }
   ],
   "source": [
    "j = 2\n",
    "print(mim_seg[j], seg_ground[j])"
   ]
  },
  {
   "cell_type": "code",
   "execution_count": 102,
   "id": "3255e748",
   "metadata": {},
   "outputs": [],
   "source": [
    "xr = XRai(best_model)\n",
    "xr.eval();"
   ]
  },
  {
   "cell_type": "code",
   "execution_count": 104,
   "id": "d994d027",
   "metadata": {},
   "outputs": [
    {
     "name": "stdout",
     "output_type": "stream",
     "text": [
      "tensor([[[0.5490, 0.5529, 0.5490,  ..., 0.9333, 0.9333, 0.9373],\n",
      "         [0.5373, 0.5373, 0.5333,  ..., 0.9216, 0.9216, 0.9255],\n",
      "         [0.5216, 0.5216, 0.5176,  ..., 0.9098, 0.9098, 0.9098],\n",
      "         ...,\n",
      "         [0.0118, 0.0157, 0.0157,  ..., 0.1804, 0.0824, 0.0627],\n",
      "         [0.0118, 0.0157, 0.0157,  ..., 0.1804, 0.0863, 0.0627],\n",
      "         [0.0118, 0.0157, 0.0157,  ..., 0.1765, 0.0941, 0.0706]],\n",
      "\n",
      "        [[0.0000, 0.0000, 0.0000,  ..., 0.0000, 0.0000, 0.0000],\n",
      "         [0.0000, 0.0000, 0.0000,  ..., 0.0000, 0.0000, 0.0000],\n",
      "         [0.0000, 0.0000, 0.0000,  ..., 0.0000, 0.0000, 0.0000],\n",
      "         ...,\n",
      "         [0.0000, 0.0000, 0.0000,  ..., 0.0000, 0.0000, 0.0000],\n",
      "         [0.0000, 0.0000, 0.0000,  ..., 0.0000, 0.0000, 0.0000],\n",
      "         [0.0000, 0.0000, 0.0000,  ..., 0.0000, 0.0000, 0.0000]],\n",
      "\n",
      "        [[0.0000, 0.0000, 0.0000,  ..., 0.0000, 0.0000, 0.0000],\n",
      "         [0.0000, 0.0000, 0.0000,  ..., 0.0000, 0.0000, 0.0000],\n",
      "         [0.0000, 0.0000, 0.0000,  ..., 0.0000, 0.0000, 0.0000],\n",
      "         ...,\n",
      "         [0.0000, 0.0000, 0.0000,  ..., 0.0000, 0.0000, 0.0000],\n",
      "         [0.0000, 0.0000, 0.0000,  ..., 0.0000, 0.0000, 0.0000],\n",
      "         [0.0000, 0.0000, 0.0000,  ..., 0.0000, 0.0000, 0.0000]]])\n",
      "torch.Size([3, 224, 224])\n"
     ]
    }
   ],
   "source": [
    "x_out = xr(mim_seg_test_dataset[2][0])"
   ]
  },
  {
   "cell_type": "code",
   "execution_count": 99,
   "id": "080b269b",
   "metadata": {},
   "outputs": [
    {
     "data": {
      "text/plain": [
       "<matplotlib.image.AxesImage at 0x7f15ae6301c0>"
      ]
     },
     "execution_count": 99,
     "metadata": {},
     "output_type": "execute_result"
    },
    {
     "data": {
      "image/png": "[encoded data removed]",
      "text/plain": [
       "<Figure size 432x288 with 1 Axes>"
      ]
     },
     "metadata": {
      "needs_background": "light"
     },
     "output_type": "display_data"
    }
   ],
   "source": [
    "plt.imshow(torch.moveaxis(mim_seg_test_dataset[2][0],0,2))"
   ]
  },
  {
   "cell_type": "code",
   "execution_count": 152,
   "id": "d9772d25",
   "metadata": {},
   "outputs": [
    {
     "name": "stdout",
     "output_type": "stream",
     "text": [
      "0.7701541185379028 0.0\n"
     ]
    }
   ],
   "source": [
    "j = 23\n",
    "print(mim_seg[j], seg_ground[j])"
   ]
  },
  {
   "cell_type": "code",
   "execution_count": 153,
   "id": "7726bbd8",
   "metadata": {},
   "outputs": [
    {
     "name": "stdout",
     "output_type": "stream",
     "text": [
      "tensor([[[0.0196, 0.0275, 0.0196,  ..., 0.0039, 0.0039, 0.0039],\n",
      "         [0.0549, 0.0824, 0.0784,  ..., 0.0039, 0.0039, 0.0039],\n",
      "         [0.0353, 0.0627, 0.0824,  ..., 0.0039, 0.0039, 0.0039],\n",
      "         ...,\n",
      "         [0.5647, 0.8902, 0.9020,  ..., 0.8039, 0.7961, 0.7843],\n",
      "         [0.5725, 0.9020, 0.9059,  ..., 0.8157, 0.8039, 0.7961],\n",
      "         [0.5843, 0.9137, 0.9176,  ..., 0.8235, 0.8157, 0.8078]],\n",
      "\n",
      "        [[0.0000, 0.0000, 0.0000,  ..., 0.0000, 0.0000, 0.0000],\n",
      "         [0.0000, 0.0000, 0.0000,  ..., 0.0000, 0.0000, 0.0000],\n",
      "         [0.0000, 0.0000, 0.0000,  ..., 0.0000, 0.0000, 0.0000],\n",
      "         ...,\n",
      "         [0.0000, 0.0000, 0.0000,  ..., 0.0000, 0.0000, 0.0000],\n",
      "         [0.0000, 0.0000, 0.0000,  ..., 0.0000, 0.0000, 0.0000],\n",
      "         [0.0000, 0.0000, 0.0000,  ..., 0.0000, 0.0000, 0.0000]],\n",
      "\n",
      "        [[0.0000, 0.0000, 0.0000,  ..., 0.0000, 0.0000, 0.0000],\n",
      "         [0.0000, 0.0000, 0.0000,  ..., 0.0000, 0.0000, 0.0000],\n",
      "         [0.0000, 0.0000, 0.0000,  ..., 0.0000, 0.0000, 0.0000],\n",
      "         ...,\n",
      "         [0.0000, 0.0000, 0.0000,  ..., 0.0000, 0.0000, 0.0000],\n",
      "         [0.0000, 0.0000, 0.0000,  ..., 0.0000, 0.0000, 0.0000],\n",
      "         [0.0000, 0.0000, 0.0000,  ..., 0.0000, 0.0000, 0.0000]]])\n",
      "torch.Size([3, 224, 224])\n"
     ]
    }
   ],
   "source": [
    "x_out = xr(mim_seg_test_dataset[j][0])"
   ]
  },
  {
   "cell_type": "code",
   "execution_count": 154,
   "id": "c275bef9",
   "metadata": {},
   "outputs": [],
   "source": [
    "om = torch.moveaxis(mim_seg_test_dataset[j][0],0,2)"
   ]
  },
  {
   "cell_type": "code",
   "execution_count": null,
   "id": "4b61c45d",
   "metadata": {},
   "outputs": [],
   "source": []
  },
  {
   "cell_type": "code",
   "execution_count": 155,
   "id": "b323c7cd",
   "metadata": {},
   "outputs": [
    {
     "data": {
      "image/png": "[encoded data removed]",
      "text/plain": [
       "<Figure size 432x288 with 1 Axes>"
      ]
     },
     "metadata": {
      "needs_background": "light"
     },
     "output_type": "display_data"
    }
   ],
   "source": [
    "ShowImage(om, 't')"
   ]
  },
  {
   "cell_type": "code",
   "execution_count": 156,
   "id": "b55a2448",
   "metadata": {},
   "outputs": [
    {
     "data": {
      "image/png": "[encoded data removed]",
      "text/plain": [
       "<Figure size 432x288 with 1 Axes>"
      ]
     },
     "metadata": {
      "needs_background": "light"
     },
     "output_type": "display_data"
    }
   ],
   "source": [
    "ShowHeatMap(x_out, 't')"
   ]
  },
  {
   "cell_type": "code",
   "execution_count": 157,
   "id": "e7df14f0",
   "metadata": {},
   "outputs": [],
   "source": [
    "mask = x_out >= np.percentile(x_out, 80)\n",
    "im_mask = np.array(om)\n",
    "im_mask[~mask] = 1"
   ]
  },
  {
   "cell_type": "code",
   "execution_count": 158,
   "id": "159020d7",
   "metadata": {},
   "outputs": [
    {
     "data": {
      "image/png": "[encoded data removed]",
      "text/plain": [
       "<Figure size 432x288 with 1 Axes>"
      ]
     },
     "metadata": {
      "needs_background": "light"
     },
     "output_type": "display_data"
    }
   ],
   "source": [
    "ShowImage(im_mask)"
   ]
  },
  {
   "cell_type": "markdown",
   "id": "207a7d01",
   "metadata": {},
   "source": [
    "## AUC Plots"
   ]
  },
  {
   "cell_type": "code",
   "execution_count": 23,
   "id": "9a1fedb6",
   "metadata": {},
   "outputs": [],
   "source": [
    "def plot_auc(ground, y_hat, title, final_auc, save=False):\n",
    "    plt.figure(figsize=(8,6), dpi=100)\n",
    "    fpr, tpr, thresholds = roc_curve(ground, y_hat)\n",
    "    plt.plot(fpr, tpr)\n",
    "    plt.xlabel('False Positive Rate')\n",
    "    plt.ylabel('True Positive Rate')\n",
    "    plt.title(title + f', AUC: {final_auc}')\n",
    "    if save:\n",
    "        plt.savefig('presentation_figs/final_auc.png')"
   ]
  },
  {
   "cell_type": "code",
   "execution_count": 13,
   "id": "b2f49ed4",
   "metadata": {},
   "outputs": [],
   "source": [
    "verc = [[full_ground, hsiao_full, f'UCSD Full, AUROC of {np.round(hsiao_full_auc, 3)}', f'UCSD Full, AUPRC of {np.round(hsiao_full_prc, 3)}'], \n",
    "        [full_ground, mim_full, f'MIMIC Full, AUROC of {np.round(mim_full_auc, 3)}', f'MIMIC Full, AUPRC of {np.round(mim_full_prc, 3)}'], \n",
    "        [seg_ground, hsiao_seg, f'UCSD Segmented, AUROC of {np.round(hsiao_seg_auc, 3)}', f'UCSD Segmented, AUPRC of {np.round(hsiao_seg_prc, 3)}'], \n",
    "        [seg_ground, mim_seg, f'MIMIC Segmented, AUROC of {np.round(mim_seg_auc, 3)}', f'MIMIC Segmented, AUPRC of {np.round(mim_seg_prc, 3)}']]\n",
    "rocs = []\n",
    "prcs = []\n",
    "for ver in verc:\n",
    "    fpr, tpr, thresholds = roc_curve(ver[0], ver[1])\n",
    "    precision, recall, thresholds = precision_recall_curve(ver[0], ver[1])\n",
    "    roc = pd.DataFrame([fpr,tpr]).T\n",
    "    roc.columns = ['False Positive Rate', 'True Positive Rate']\n",
    "    roc['Model'] = [ver[2]] * len(roc)\n",
    "    prc = pd.DataFrame([precision, recall]).T\n",
    "    prc.columns = ['Precision', 'Recall']\n",
    "    prc['Model'] = [ver[3]] * len(prc)\n",
    "    rocs.append(roc)\n",
    "    prcs.append(prc)\n",
    "all_rocs = pd.concat(rocs)\n",
    "all_prcs = pd.concat(prcs)"
   ]
  },
  {
   "cell_type": "code",
   "execution_count": 22,
   "id": "3e18fe6d",
   "metadata": {},
   "outputs": [
    {
     "data": {
      "image/png": "[encoded data removed]",
      "text/plain": [
       "<Figure size 720x576 with 1 Axes>"
      ]
     },
     "metadata": {
      "needs_background": "light"
     },
     "output_type": "display_data"
    }
   ],
   "source": [
    "plt.figure(figsize=(10,8))\n",
    "sns.lineplot(data=all_rocs, x='False Positive Rate', y='True Positive Rate', hue='Model').set(title = 'All Models ROC')\n",
    "plt.savefig('final_figs/all_roc.png', pad_inches=0.2, bbox_inches='tight')"
   ]
  },
  {
   "cell_type": "code",
   "execution_count": 23,
   "id": "56270f79",
   "metadata": {},
   "outputs": [
    {
     "data": {
      "image/png": "[encoded data removed]",
      "text/plain": [
       "<Figure size 720x576 with 1 Axes>"
      ]
     },
     "metadata": {
      "needs_background": "light"
     },
     "output_type": "display_data"
    }
   ],
   "source": [
    "plt.figure(figsize=(10,8))\n",
    "sns.lineplot(data = all_prcs, x='Precision', y='Recall', hue='Model').set(title='All Models PRC')\n",
    "plt.savefig('final_figs/all_prc.png', pad_inches=0.2, bbox_inches='tight')"
   ]
  },
  {
   "cell_type": "code",
   "execution_count": 38,
   "id": "d31439ba",
   "metadata": {},
   "outputs": [],
   "source": [
    "full = '/home/jmryan/teams/dsc-180a---a14-[88137]/mimic_224_pandas/bf2f7b51-95151649-fdf6dcc7-5580045e-234e3a35/bf2f7b51-95151649-fdf6dcc7-5580045e-234e3a35_224.pandas'\n",
    "lung = '/home/jmryan/teams/dsc-180a---a14-[88137]/mimic_seg_lung_224_pandas/bf2f7b51-95151649-fdf6dcc7-5580045e-234e3a35/bf2f7b51-95151649-fdf6dcc7-5580045e-234e3a35_224.pandas'\n",
    "heart = '/home/jmryan/teams/dsc-180a---a14-[88137]/mimic_seg_heart_224_pandas/bf2f7b51-95151649-fdf6dcc7-5580045e-234e3a35/bf2f7b51-95151649-fdf6dcc7-5580045e-234e3a35_224.pandas'"
   ]
  },
  {
   "cell_type": "code",
   "execution_count": 53,
   "id": "54e34447",
   "metadata": {},
   "outputs": [
    {
     "name": "stdout",
     "output_type": "stream",
     "text": [
      "/home/jmryan/teams/dsc-180a---a14-[88137]/mimic_224_pandas/bf2f7b51-95151649-fdf6dcc7-5580045e-234e3a35/bf2f7b51-95151649-fdf6dcc7-5580045e-234e3a35_224.pandas /home/jmryan/teams/dsc-180a---a14-[88137]/mimic_seg_lung_224_pandas/bf2f7b51-95151649-fdf6dcc7-5580045e-234e3a35/bf2f7b51-95151649-fdf6dcc7-5580045e-234e3a35_224.pandas /home/jmryan/teams/dsc-180a---a14-[88137]/mimic_seg_heart_224_pandas/bf2f7b51-95151649-fdf6dcc7-5580045e-234e3a35/bf2f7b51-95151649-fdf6dcc7-5580045e-234e3a35_224.pandas\n"
     ]
    },
    {
     "data": {
      "image/png": "[encoded data removed]",
      "text/plain": [
       "<Figure size 432x432 with 1 Axes>"
      ]
     },
     "metadata": {
      "needs_background": "light"
     },
     "output_type": "display_data"
    }
   ],
   "source": [
    "plt.figure(figsize=(6,6))\n",
    "plt.imshow(torch.moveaxis(mim_seg_test_dataset[0][0], 0, 2))\n",
    "plt.axis('off')\n",
    "plt.savefig('final_figs/final_segmentation.png', pad_inches=0, bbox_inches='tight')"
   ]
  },
  {
   "cell_type": "code",
   "execution_count": 52,
   "id": "77180c7e",
   "metadata": {},
   "outputs": [
    {
     "data": {
      "image/png": "[encoded data removed]",
      "text/plain": [
       "<Figure size 432x432 with 1 Axes>"
      ]
     },
     "metadata": {
      "needs_background": "light"
     },
     "output_type": "display_data"
    }
   ],
   "source": [
    "plt.figure(figsize=(6,6))\n",
    "plt.imshow(torch.load(full), cmap='gray')\n",
    "plt.axis('off')\n",
    "plt.savefig('final_figs/full_segmentation.png', pad_inches=0, bbox_inches='tight')"
   ]
  },
  {
   "cell_type": "code",
   "execution_count": null,
   "id": "ab50cd49",
   "metadata": {},
   "outputs": [],
   "source": []
  }
 ],
 "metadata": {
  "kernelspec": {
   "display_name": "Python 3 (ipykernel)",
   "language": "python",
   "name": "python3"
  },
  "language_info": {
   "codemirror_mode": {
    "name": "ipython",
    "version": 3
   },
   "file_extension": ".py",
   "mimetype": "text/x-python",
   "name": "python",
   "nbconvert_exporter": "python",
   "pygments_lexer": "ipython3",
   "version": "3.9.5"
  }
 },
 "nbformat": 4,
 "nbformat_minor": 5
}
